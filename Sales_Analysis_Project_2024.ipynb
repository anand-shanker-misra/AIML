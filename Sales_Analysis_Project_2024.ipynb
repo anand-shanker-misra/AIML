{
 "cells": [
  {
   "cell_type": "markdown",
   "id": "00c8f4a7",
   "metadata": {},
   "source": [
    "<h1>Sales Analysis Project</h1>"
   ]
  },
  {
   "cell_type": "markdown",
   "id": "574108e1",
   "metadata": {},
   "source": [
    "<h2>Problem Statement</h2>"
   ]
  },
  {
   "cell_type": "markdown",
   "id": "e5bb9f55",
   "metadata": {},
   "source": [
    "AAL, established in 2000, is a well-known brand in Australia, particularly \n",
    "recognized for its clothing business. It has opened branches in various states, \n",
    "metropolises, and tier-1 and tier-2 cities across the country.\n",
    "The brand caters to all age groups, from kids to the elderly.\n",
    "Currently experiencing a surge in business, AAL is actively pursuing expansion \n",
    "opportunities. To facilitate informed investment decisions, the CEO has assigned \n",
    "the responsibility to the head of AAL’s sales and marketing (S&M) department. \n",
    "The specific tasks include:\n",
    "1) Identify the states that are generating the highest revenues.\n",
    "2) Develop sales programs for states with lower revenues. The head of sales \n",
    "and marketing has requested your assistance with this task.\n",
    "Analyze the sales data of the company for the fourth quarter in Australia, \n",
    "examining it on a state-by-state basis. Provide insights to assist the company in \n",
    "making data-driven decisions for the upcoming year."
   ]
  },
  {
   "cell_type": "code",
   "execution_count": 1,
   "id": "5c7c1f93",
   "metadata": {},
   "outputs": [],
   "source": [
    "import pandas as pd\n",
    "import numpy as np\n",
    "import matplotlib.pyplot as plt\n",
    "import seaborn as sns"
   ]
  },
  {
   "cell_type": "code",
   "execution_count": 2,
   "id": "e3de9000",
   "metadata": {},
   "outputs": [],
   "source": [
    "#Read the CSV datafile into Pandas dataframe"
   ]
  },
  {
   "cell_type": "code",
   "execution_count": 3,
   "id": "1bcd5ac6",
   "metadata": {},
   "outputs": [],
   "source": [
    "df=pd.read_csv('AusApparalSales4thQrt2020.csv')"
   ]
  },
  {
   "cell_type": "markdown",
   "id": "3da59032",
   "metadata": {},
   "source": [
    "<h3>Data Wrangling</h3>"
   ]
  },
  {
   "cell_type": "code",
   "execution_count": 4,
   "id": "77bfc8ad",
   "metadata": {},
   "outputs": [],
   "source": [
    "#Lets view the head of the datframe"
   ]
  },
  {
   "cell_type": "code",
   "execution_count": 5,
   "id": "87f26150",
   "metadata": {},
   "outputs": [
    {
     "data": {
      "text/html": [
       "<div>\n",
       "<style scoped>\n",
       "    .dataframe tbody tr th:only-of-type {\n",
       "        vertical-align: middle;\n",
       "    }\n",
       "\n",
       "    .dataframe tbody tr th {\n",
       "        vertical-align: top;\n",
       "    }\n",
       "\n",
       "    .dataframe thead th {\n",
       "        text-align: right;\n",
       "    }\n",
       "</style>\n",
       "<table border=\"1\" class=\"dataframe\">\n",
       "  <thead>\n",
       "    <tr style=\"text-align: right;\">\n",
       "      <th></th>\n",
       "      <th>Date</th>\n",
       "      <th>Time</th>\n",
       "      <th>State</th>\n",
       "      <th>Group</th>\n",
       "      <th>Unit</th>\n",
       "      <th>Sales</th>\n",
       "    </tr>\n",
       "  </thead>\n",
       "  <tbody>\n",
       "    <tr>\n",
       "      <th>0</th>\n",
       "      <td>1-Oct-2020</td>\n",
       "      <td>Morning</td>\n",
       "      <td>WA</td>\n",
       "      <td>Kids</td>\n",
       "      <td>8</td>\n",
       "      <td>20000</td>\n",
       "    </tr>\n",
       "    <tr>\n",
       "      <th>1</th>\n",
       "      <td>1-Oct-2020</td>\n",
       "      <td>Morning</td>\n",
       "      <td>WA</td>\n",
       "      <td>Men</td>\n",
       "      <td>8</td>\n",
       "      <td>20000</td>\n",
       "    </tr>\n",
       "    <tr>\n",
       "      <th>2</th>\n",
       "      <td>1-Oct-2020</td>\n",
       "      <td>Morning</td>\n",
       "      <td>WA</td>\n",
       "      <td>Women</td>\n",
       "      <td>4</td>\n",
       "      <td>10000</td>\n",
       "    </tr>\n",
       "    <tr>\n",
       "      <th>3</th>\n",
       "      <td>1-Oct-2020</td>\n",
       "      <td>Morning</td>\n",
       "      <td>WA</td>\n",
       "      <td>Seniors</td>\n",
       "      <td>15</td>\n",
       "      <td>37500</td>\n",
       "    </tr>\n",
       "    <tr>\n",
       "      <th>4</th>\n",
       "      <td>1-Oct-2020</td>\n",
       "      <td>Afternoon</td>\n",
       "      <td>WA</td>\n",
       "      <td>Kids</td>\n",
       "      <td>3</td>\n",
       "      <td>7500</td>\n",
       "    </tr>\n",
       "  </tbody>\n",
       "</table>\n",
       "</div>"
      ],
      "text/plain": [
       "         Date        Time State     Group  Unit  Sales\n",
       "0  1-Oct-2020     Morning    WA      Kids     8  20000\n",
       "1  1-Oct-2020     Morning    WA       Men     8  20000\n",
       "2  1-Oct-2020     Morning    WA     Women     4  10000\n",
       "3  1-Oct-2020     Morning    WA   Seniors    15  37500\n",
       "4  1-Oct-2020   Afternoon    WA      Kids     3   7500"
      ]
     },
     "execution_count": 5,
     "metadata": {},
     "output_type": "execute_result"
    }
   ],
   "source": [
    "df.head() #display first five rows of the dataframe"
   ]
  },
  {
   "cell_type": "code",
   "execution_count": 6,
   "id": "2c1f9bcd",
   "metadata": {},
   "outputs": [],
   "source": [
    "#Lets view the tail of the dataframe"
   ]
  },
  {
   "cell_type": "code",
   "execution_count": 7,
   "id": "ab9c3bc0",
   "metadata": {},
   "outputs": [
    {
     "data": {
      "text/html": [
       "<div>\n",
       "<style scoped>\n",
       "    .dataframe tbody tr th:only-of-type {\n",
       "        vertical-align: middle;\n",
       "    }\n",
       "\n",
       "    .dataframe tbody tr th {\n",
       "        vertical-align: top;\n",
       "    }\n",
       "\n",
       "    .dataframe thead th {\n",
       "        text-align: right;\n",
       "    }\n",
       "</style>\n",
       "<table border=\"1\" class=\"dataframe\">\n",
       "  <thead>\n",
       "    <tr style=\"text-align: right;\">\n",
       "      <th></th>\n",
       "      <th>Date</th>\n",
       "      <th>Time</th>\n",
       "      <th>State</th>\n",
       "      <th>Group</th>\n",
       "      <th>Unit</th>\n",
       "      <th>Sales</th>\n",
       "    </tr>\n",
       "  </thead>\n",
       "  <tbody>\n",
       "    <tr>\n",
       "      <th>7555</th>\n",
       "      <td>30-Dec-2020</td>\n",
       "      <td>Afternoon</td>\n",
       "      <td>TAS</td>\n",
       "      <td>Seniors</td>\n",
       "      <td>14</td>\n",
       "      <td>35000</td>\n",
       "    </tr>\n",
       "    <tr>\n",
       "      <th>7556</th>\n",
       "      <td>30-Dec-2020</td>\n",
       "      <td>Evening</td>\n",
       "      <td>TAS</td>\n",
       "      <td>Kids</td>\n",
       "      <td>15</td>\n",
       "      <td>37500</td>\n",
       "    </tr>\n",
       "    <tr>\n",
       "      <th>7557</th>\n",
       "      <td>30-Dec-2020</td>\n",
       "      <td>Evening</td>\n",
       "      <td>TAS</td>\n",
       "      <td>Men</td>\n",
       "      <td>15</td>\n",
       "      <td>37500</td>\n",
       "    </tr>\n",
       "    <tr>\n",
       "      <th>7558</th>\n",
       "      <td>30-Dec-2020</td>\n",
       "      <td>Evening</td>\n",
       "      <td>TAS</td>\n",
       "      <td>Women</td>\n",
       "      <td>11</td>\n",
       "      <td>27500</td>\n",
       "    </tr>\n",
       "    <tr>\n",
       "      <th>7559</th>\n",
       "      <td>30-Dec-2020</td>\n",
       "      <td>Evening</td>\n",
       "      <td>TAS</td>\n",
       "      <td>Seniors</td>\n",
       "      <td>13</td>\n",
       "      <td>32500</td>\n",
       "    </tr>\n",
       "  </tbody>\n",
       "</table>\n",
       "</div>"
      ],
      "text/plain": [
       "             Date        Time State     Group  Unit  Sales\n",
       "7555  30-Dec-2020   Afternoon   TAS   Seniors    14  35000\n",
       "7556  30-Dec-2020     Evening   TAS      Kids    15  37500\n",
       "7557  30-Dec-2020     Evening   TAS       Men    15  37500\n",
       "7558  30-Dec-2020     Evening   TAS     Women    11  27500\n",
       "7559  30-Dec-2020     Evening   TAS   Seniors    13  32500"
      ]
     },
     "execution_count": 7,
     "metadata": {},
     "output_type": "execute_result"
    }
   ],
   "source": [
    "df.tail() #Display last five rows of the Dataframe"
   ]
  },
  {
   "cell_type": "code",
   "execution_count": 8,
   "id": "4ebc4fe7",
   "metadata": {},
   "outputs": [
    {
     "data": {
      "text/plain": [
       "array(['1-Oct-2020', '2-Oct-2020', '3-Oct-2020', '4-Oct-2020',\n",
       "       '5-Oct-2020', '6-Oct-2020', '7-Oct-2020', '8-Oct-2020',\n",
       "       '9-Oct-2020', '10-Oct-2020', '11-Oct-2020', '12-Oct-2020',\n",
       "       '13-Oct-2020', '14-Oct-2020', '15-Oct-2020', '16-Oct-2020',\n",
       "       '17-Oct-2020', '18-Oct-2020', '19-Oct-2020', '20-Oct-2020',\n",
       "       '21-Oct-2020', '22-Oct-2020', '23-Oct-2020', '24-Oct-2020',\n",
       "       '25-Oct-2020', '26-Oct-2020', '27-Oct-2020', '28-Oct-2020',\n",
       "       '29-Oct-2020', '30-Oct-2020', '1-Nov-2020', '2-Nov-2020',\n",
       "       '3-Nov-2020', '4-Nov-2020', '5-Nov-2020', '6-Nov-2020',\n",
       "       '7-Nov-2020', '8-Nov-2020', '9-Nov-2020', '10-Nov-2020',\n",
       "       '11-Nov-2020', '12-Nov-2020', '13-Nov-2020', '14-Nov-2020',\n",
       "       '15-Nov-2020', '16-Nov-2020', '17-Nov-2020', '18-Nov-2020',\n",
       "       '19-Nov-2020', '20-Nov-2020', '21-Nov-2020', '22-Nov-2020',\n",
       "       '23-Nov-2020', '24-Nov-2020', '25-Nov-2020', '26-Nov-2020',\n",
       "       '27-Nov-2020', '28-Nov-2020', '29-Nov-2020', '30-Nov-2020',\n",
       "       '1-Dec-2020', '2-Dec-2020', '3-Dec-2020', '4-Dec-2020',\n",
       "       '5-Dec-2020', '6-Dec-2020', '7-Dec-2020', '8-Dec-2020',\n",
       "       '9-Dec-2020', '10-Dec-2020', '11-Dec-2020', '12-Dec-2020',\n",
       "       '13-Dec-2020', '14-Dec-2020', '15-Dec-2020', '16-Dec-2020',\n",
       "       '17-Dec-2020', '18-Dec-2020', '19-Dec-2020', '20-Dec-2020',\n",
       "       '21-Dec-2020', '22-Dec-2020', '23-Dec-2020', '24-Dec-2020',\n",
       "       '25-Dec-2020', '26-Dec-2020', '27-Dec-2020', '28-Dec-2020',\n",
       "       '29-Dec-2020', '30-Dec-2020'], dtype=object)"
      ]
     },
     "execution_count": 8,
     "metadata": {},
     "output_type": "execute_result"
    }
   ],
   "source": [
    "df['Date'].unique() #list out the unique values of Date column"
   ]
  },
  {
   "cell_type": "code",
   "execution_count": 9,
   "id": "ab5875b3",
   "metadata": {},
   "outputs": [
    {
     "data": {
      "text/plain": [
       "array([' Morning', ' Afternoon', ' Evening'], dtype=object)"
      ]
     },
     "execution_count": 9,
     "metadata": {},
     "output_type": "execute_result"
    }
   ],
   "source": [
    "df['Time'].unique()"
   ]
  },
  {
   "cell_type": "code",
   "execution_count": 10,
   "id": "36557e48",
   "metadata": {},
   "outputs": [
    {
     "data": {
      "text/plain": [
       "array([' WA', ' NT', ' SA', ' VIC', ' QLD', ' NSW', ' TAS'], dtype=object)"
      ]
     },
     "execution_count": 10,
     "metadata": {},
     "output_type": "execute_result"
    }
   ],
   "source": [
    "df['State'].unique()"
   ]
  },
  {
   "cell_type": "code",
   "execution_count": 11,
   "id": "ed6a327b",
   "metadata": {},
   "outputs": [
    {
     "data": {
      "text/plain": [
       "array([' Kids', ' Men', ' Women', ' Seniors'], dtype=object)"
      ]
     },
     "execution_count": 11,
     "metadata": {},
     "output_type": "execute_result"
    }
   ],
   "source": [
    "df['Group'].unique()"
   ]
  },
  {
   "cell_type": "code",
   "execution_count": 12,
   "id": "357d7cf9",
   "metadata": {},
   "outputs": [
    {
     "data": {
      "text/plain": [
       "array([ 8,  4, 15,  3, 10, 11, 13,  5,  6,  9, 14, 12, 16, 28, 21, 29, 22,\n",
       "       32, 49, 36, 34, 26, 31, 27, 43, 50, 44, 20, 18, 19, 39, 17, 23, 40,\n",
       "       30,  7, 33, 42, 46, 48, 37, 25, 35, 45, 47, 38, 41, 24,  2, 51, 63,\n",
       "       62, 52, 56, 59, 64, 53, 61, 54, 60, 55, 65, 57, 58], dtype=int64)"
      ]
     },
     "execution_count": 12,
     "metadata": {},
     "output_type": "execute_result"
    }
   ],
   "source": [
    "df['Unit'].unique()"
   ]
  },
  {
   "cell_type": "code",
   "execution_count": 13,
   "id": "ec1e10a5",
   "metadata": {},
   "outputs": [
    {
     "data": {
      "text/plain": [
       "array([ 20000,  10000,  37500,   7500,  25000,  27500,  32500,  12500,\n",
       "        15000,  22500,  35000,  30000,  40000,  70000,  52500,  72500,\n",
       "        55000,  80000, 122500,  90000,  85000,  65000,  77500,  67500,\n",
       "       107500, 125000, 110000,  50000,  45000,  47500,  97500,  42500,\n",
       "        57500, 100000,  75000,  17500,  82500, 105000, 115000, 120000,\n",
       "        92500,  62500,  87500, 112500, 117500,  95000, 102500,  60000,\n",
       "         5000, 127500, 157500, 155000, 130000, 140000, 147500, 160000,\n",
       "       132500, 152500, 135000, 150000, 137500, 162500, 142500, 145000],\n",
       "      dtype=int64)"
      ]
     },
     "execution_count": 13,
     "metadata": {},
     "output_type": "execute_result"
    }
   ],
   "source": [
    "df['Sales'].unique()"
   ]
  },
  {
   "cell_type": "markdown",
   "id": "13f86d91",
   "metadata": {},
   "source": [
    "<h3>Variable Notes</h3>\n",
    "<ol>\n",
    "<li><b>Date</b> - column contains the transaction date</li>\n",
    "<li><b>Time</b> - column specifies the part of day during which the transaction took place (i.e; Morning, Afternoon, Evening)</li>\n",
    "<li><b>State</b> - column contains the name of the state where sale took place [' WA', ' NT', ' SA', ' VIC', ' QLD', ' NSW', ' TAS']</li>\n",
    "<li><b>Group</b> - column contains the age group for which the product was purchased [' Kids', ' Men', ' Women', ' Seniors']</li>\n",
    "<li><b>Unit</b> - column contains the number of units sold</li>\n",
    "<li><b>Sales</b> - column contains the total amount of sale</li>\n",
    "</ol>"
   ]
  },
  {
   "cell_type": "code",
   "execution_count": 14,
   "id": "ad1afe08",
   "metadata": {},
   "outputs": [],
   "source": [
    "#Lets get more information on the columns and the data within it using the info()"
   ]
  },
  {
   "cell_type": "code",
   "execution_count": 15,
   "id": "27539085",
   "metadata": {},
   "outputs": [
    {
     "name": "stdout",
     "output_type": "stream",
     "text": [
      "<class 'pandas.core.frame.DataFrame'>\n",
      "RangeIndex: 7560 entries, 0 to 7559\n",
      "Data columns (total 6 columns):\n",
      " #   Column  Non-Null Count  Dtype \n",
      "---  ------  --------------  ----- \n",
      " 0   Date    7560 non-null   object\n",
      " 1   Time    7560 non-null   object\n",
      " 2   State   7560 non-null   object\n",
      " 3   Group   7560 non-null   object\n",
      " 4   Unit    7560 non-null   int64 \n",
      " 5   Sales   7560 non-null   int64 \n",
      "dtypes: int64(2), object(4)\n",
      "memory usage: 354.5+ KB\n"
     ]
    }
   ],
   "source": [
    "df.info() #Display the information about the columns in the dataframe"
   ]
  },
  {
   "cell_type": "markdown",
   "id": "40d84dbd",
   "metadata": {},
   "source": [
    "<span style=\"background-color: #FFFF00\">\n",
    "<b>There are in total 7560 rows and 6 columns in the dataset. There are no rows with null or missing data as the Non-Null count of all the columns is 7560. We can further confirm this using notna()</b>\n",
    "</span>"
   ]
  },
  {
   "cell_type": "code",
   "execution_count": 16,
   "id": "491a1409",
   "metadata": {},
   "outputs": [
    {
     "data": {
      "text/plain": [
       "0       True\n",
       "1       True\n",
       "2       True\n",
       "3       True\n",
       "4       True\n",
       "        ... \n",
       "7555    True\n",
       "7556    True\n",
       "7557    True\n",
       "7558    True\n",
       "7559    True\n",
       "Name: Date, Length: 7560, dtype: bool"
      ]
     },
     "execution_count": 16,
     "metadata": {},
     "output_type": "execute_result"
    }
   ],
   "source": [
    "df['Date'].notna() #return True if the Date column value in the row is not available"
   ]
  },
  {
   "cell_type": "code",
   "execution_count": 17,
   "id": "8cfdd41f",
   "metadata": {},
   "outputs": [
    {
     "data": {
      "text/plain": [
       "7560"
      ]
     },
     "execution_count": 17,
     "metadata": {},
     "output_type": "execute_result"
    }
   ],
   "source": [
    "df['Date'].notna().count() #Get the count of the rows where the Date column values are available"
   ]
  },
  {
   "cell_type": "markdown",
   "id": "b3e0ab67",
   "metadata": {},
   "source": [
    "<i><b>As the count of Not-Null values is 7560, so there are no null values in Date column. Similarly, let us check for Time and other columns.</b></i>"
   ]
  },
  {
   "cell_type": "code",
   "execution_count": 18,
   "id": "f8779160",
   "metadata": {},
   "outputs": [
    {
     "data": {
      "text/plain": [
       "Date     0\n",
       "Time     0\n",
       "State    0\n",
       "Group    0\n",
       "Unit     0\n",
       "Sales    0\n",
       "dtype: int64"
      ]
     },
     "execution_count": 18,
     "metadata": {},
     "output_type": "execute_result"
    }
   ],
   "source": [
    "df.isnull().sum()"
   ]
  },
  {
   "cell_type": "markdown",
   "id": "a4e6b175",
   "metadata": {},
   "source": [
    "<span style=\"background-color: #FFFF00\">\n",
    "<b>So we see that there are no missing or null values in any of the six columns.</b>\n",
    "</span>"
   ]
  },
  {
   "cell_type": "markdown",
   "id": "c775f93d",
   "metadata": {},
   "source": [
    "Now, let us check the datatypes of various columns"
   ]
  },
  {
   "cell_type": "code",
   "execution_count": 19,
   "id": "538216ef",
   "metadata": {},
   "outputs": [
    {
     "data": {
      "text/plain": [
       "Date     object\n",
       "Time     object\n",
       "State    object\n",
       "Group    object\n",
       "Unit      int64\n",
       "Sales     int64\n",
       "dtype: object"
      ]
     },
     "execution_count": 19,
     "metadata": {},
     "output_type": "execute_result"
    }
   ],
   "source": [
    "df.dtypes  # Displays the data types of the various columns in the dataframe"
   ]
  },
  {
   "cell_type": "markdown",
   "id": "10b168da",
   "metadata": {},
   "source": [
    "Let us also check the memory usage of the dataframe."
   ]
  },
  {
   "cell_type": "code",
   "execution_count": 20,
   "id": "92f24f6d",
   "metadata": {},
   "outputs": [
    {
     "data": {
      "text/plain": [
       "45360"
      ]
     },
     "execution_count": 20,
     "metadata": {},
     "output_type": "execute_result"
    }
   ],
   "source": [
    "df.size"
   ]
  },
  {
   "cell_type": "code",
   "execution_count": 21,
   "id": "ac6e3e3d",
   "metadata": {},
   "outputs": [
    {
     "data": {
      "text/plain": [
       "Index      132\n",
       "Date     60480\n",
       "Time     60480\n",
       "State    60480\n",
       "Group    60480\n",
       "Unit     60480\n",
       "Sales    60480\n",
       "dtype: int64"
      ]
     },
     "execution_count": 21,
     "metadata": {},
     "output_type": "execute_result"
    }
   ],
   "source": [
    "df.memory_usage() #Displays the column-wise breakup of the memory consumption of the dataframe"
   ]
  },
  {
   "cell_type": "markdown",
   "id": "505c328d",
   "metadata": {},
   "source": [
    "<span style=\"background-color: #FFFF00\">\n",
    "<b>We se that Date column is of type object. Lets convert it to datetime for indexing purpose.</b>\n",
    "</span>"
   ]
  },
  {
   "cell_type": "code",
   "execution_count": 22,
   "id": "515cb3b3",
   "metadata": {},
   "outputs": [],
   "source": [
    "df['Date']=pd.to_datetime(df['Date'])    #Converting object type Date column to datetime type"
   ]
  },
  {
   "cell_type": "code",
   "execution_count": 23,
   "id": "b79699cc",
   "metadata": {},
   "outputs": [
    {
     "data": {
      "text/plain": [
       "Date     datetime64[ns]\n",
       "Time             object\n",
       "State            object\n",
       "Group            object\n",
       "Unit              int64\n",
       "Sales             int64\n",
       "dtype: object"
      ]
     },
     "execution_count": 23,
     "metadata": {},
     "output_type": "execute_result"
    }
   ],
   "source": [
    "df.dtypes"
   ]
  },
  {
   "cell_type": "code",
   "execution_count": 24,
   "id": "6f288494",
   "metadata": {},
   "outputs": [
    {
     "data": {
      "text/html": [
       "<div>\n",
       "<style scoped>\n",
       "    .dataframe tbody tr th:only-of-type {\n",
       "        vertical-align: middle;\n",
       "    }\n",
       "\n",
       "    .dataframe tbody tr th {\n",
       "        vertical-align: top;\n",
       "    }\n",
       "\n",
       "    .dataframe thead th {\n",
       "        text-align: right;\n",
       "    }\n",
       "</style>\n",
       "<table border=\"1\" class=\"dataframe\">\n",
       "  <thead>\n",
       "    <tr style=\"text-align: right;\">\n",
       "      <th></th>\n",
       "      <th>Date</th>\n",
       "      <th>Time</th>\n",
       "      <th>State</th>\n",
       "      <th>Group</th>\n",
       "      <th>Unit</th>\n",
       "      <th>Sales</th>\n",
       "    </tr>\n",
       "  </thead>\n",
       "  <tbody>\n",
       "    <tr>\n",
       "      <th>0</th>\n",
       "      <td>2020-10-01</td>\n",
       "      <td>Morning</td>\n",
       "      <td>WA</td>\n",
       "      <td>Kids</td>\n",
       "      <td>8</td>\n",
       "      <td>20000</td>\n",
       "    </tr>\n",
       "    <tr>\n",
       "      <th>1</th>\n",
       "      <td>2020-10-01</td>\n",
       "      <td>Morning</td>\n",
       "      <td>WA</td>\n",
       "      <td>Men</td>\n",
       "      <td>8</td>\n",
       "      <td>20000</td>\n",
       "    </tr>\n",
       "    <tr>\n",
       "      <th>2</th>\n",
       "      <td>2020-10-01</td>\n",
       "      <td>Morning</td>\n",
       "      <td>WA</td>\n",
       "      <td>Women</td>\n",
       "      <td>4</td>\n",
       "      <td>10000</td>\n",
       "    </tr>\n",
       "    <tr>\n",
       "      <th>3</th>\n",
       "      <td>2020-10-01</td>\n",
       "      <td>Morning</td>\n",
       "      <td>WA</td>\n",
       "      <td>Seniors</td>\n",
       "      <td>15</td>\n",
       "      <td>37500</td>\n",
       "    </tr>\n",
       "    <tr>\n",
       "      <th>4</th>\n",
       "      <td>2020-10-01</td>\n",
       "      <td>Afternoon</td>\n",
       "      <td>WA</td>\n",
       "      <td>Kids</td>\n",
       "      <td>3</td>\n",
       "      <td>7500</td>\n",
       "    </tr>\n",
       "  </tbody>\n",
       "</table>\n",
       "</div>"
      ],
      "text/plain": [
       "        Date        Time State     Group  Unit  Sales\n",
       "0 2020-10-01     Morning    WA      Kids     8  20000\n",
       "1 2020-10-01     Morning    WA       Men     8  20000\n",
       "2 2020-10-01     Morning    WA     Women     4  10000\n",
       "3 2020-10-01     Morning    WA   Seniors    15  37500\n",
       "4 2020-10-01   Afternoon    WA      Kids     3   7500"
      ]
     },
     "execution_count": 24,
     "metadata": {},
     "output_type": "execute_result"
    }
   ],
   "source": [
    "df.head()"
   ]
  },
  {
   "cell_type": "markdown",
   "id": "73202bf6",
   "metadata": {},
   "source": [
    "Now let us again check the memory usage."
   ]
  },
  {
   "cell_type": "code",
   "execution_count": 25,
   "id": "4676381c",
   "metadata": {},
   "outputs": [
    {
     "data": {
      "text/plain": [
       "45360"
      ]
     },
     "execution_count": 25,
     "metadata": {},
     "output_type": "execute_result"
    }
   ],
   "source": [
    "df.size"
   ]
  },
  {
   "cell_type": "code",
   "execution_count": 26,
   "id": "ad38a01f",
   "metadata": {},
   "outputs": [
    {
     "data": {
      "text/plain": [
       "Index      132\n",
       "Date     60480\n",
       "Time     60480\n",
       "State    60480\n",
       "Group    60480\n",
       "Unit     60480\n",
       "Sales    60480\n",
       "dtype: int64"
      ]
     },
     "execution_count": 26,
     "metadata": {},
     "output_type": "execute_result"
    }
   ],
   "source": [
    "df.memory_usage()"
   ]
  },
  {
   "cell_type": "markdown",
   "id": "23b80d5c",
   "metadata": {},
   "source": [
    "Now lets convert the Time, State and Group columns to categorical data."
   ]
  },
  {
   "cell_type": "code",
   "execution_count": 27,
   "id": "cfd40b95",
   "metadata": {},
   "outputs": [],
   "source": [
    "df['Time']=df['Time'].astype('category')"
   ]
  },
  {
   "cell_type": "code",
   "execution_count": 28,
   "id": "9b8fd83f",
   "metadata": {},
   "outputs": [
    {
     "data": {
      "text/plain": [
       "Date     datetime64[ns]\n",
       "Time           category\n",
       "State            object\n",
       "Group            object\n",
       "Unit              int64\n",
       "Sales             int64\n",
       "dtype: object"
      ]
     },
     "execution_count": 28,
     "metadata": {},
     "output_type": "execute_result"
    }
   ],
   "source": [
    "df.dtypes"
   ]
  },
  {
   "cell_type": "code",
   "execution_count": 29,
   "id": "bcd4ca36",
   "metadata": {},
   "outputs": [],
   "source": [
    "df['State']=df['State'].astype('category')"
   ]
  },
  {
   "cell_type": "code",
   "execution_count": 30,
   "id": "1c89c5d9",
   "metadata": {},
   "outputs": [],
   "source": [
    "df['Group']=df['Group'].astype('category')"
   ]
  },
  {
   "cell_type": "markdown",
   "id": "df884fa1",
   "metadata": {},
   "source": [
    "Lets again check the datatype"
   ]
  },
  {
   "cell_type": "code",
   "execution_count": 31,
   "id": "bd41392b",
   "metadata": {},
   "outputs": [
    {
     "data": {
      "text/plain": [
       "Date     datetime64[ns]\n",
       "Time           category\n",
       "State          category\n",
       "Group          category\n",
       "Unit              int64\n",
       "Sales             int64\n",
       "dtype: object"
      ]
     },
     "execution_count": 31,
     "metadata": {},
     "output_type": "execute_result"
    }
   ],
   "source": [
    "df.dtypes"
   ]
  },
  {
   "cell_type": "markdown",
   "id": "8ff6c374",
   "metadata": {},
   "source": [
    "Again check the memory usage"
   ]
  },
  {
   "cell_type": "code",
   "execution_count": 32,
   "id": "31526230",
   "metadata": {},
   "outputs": [
    {
     "data": {
      "text/plain": [
       "45360"
      ]
     },
     "execution_count": 32,
     "metadata": {},
     "output_type": "execute_result"
    }
   ],
   "source": [
    "df.size"
   ]
  },
  {
   "cell_type": "code",
   "execution_count": 33,
   "id": "57843118",
   "metadata": {},
   "outputs": [
    {
     "data": {
      "text/plain": [
       "Index      132\n",
       "Date     60480\n",
       "Time      7692\n",
       "State     7916\n",
       "Group     7764\n",
       "Unit     60480\n",
       "Sales    60480\n",
       "dtype: int64"
      ]
     },
     "execution_count": 33,
     "metadata": {},
     "output_type": "execute_result"
    }
   ],
   "source": [
    "df.memory_usage()"
   ]
  },
  {
   "cell_type": "markdown",
   "id": "ec2ec51b",
   "metadata": {},
   "source": [
    "<span style=\"background-color: #FFFF00\">\n",
    "<b>It is visible from above data that the memory usage has decreased.</b>\n",
    "</span>"
   ]
  },
  {
   "cell_type": "code",
   "execution_count": 34,
   "id": "26ce475a",
   "metadata": {},
   "outputs": [],
   "source": [
    "#Set index on Date"
   ]
  },
  {
   "cell_type": "code",
   "execution_count": 35,
   "id": "b3fc94da",
   "metadata": {},
   "outputs": [],
   "source": [
    "df.set_index(['Date'],inplace=True)"
   ]
  },
  {
   "cell_type": "code",
   "execution_count": 36,
   "id": "445f1c57",
   "metadata": {},
   "outputs": [
    {
     "data": {
      "text/html": [
       "<div>\n",
       "<style scoped>\n",
       "    .dataframe tbody tr th:only-of-type {\n",
       "        vertical-align: middle;\n",
       "    }\n",
       "\n",
       "    .dataframe tbody tr th {\n",
       "        vertical-align: top;\n",
       "    }\n",
       "\n",
       "    .dataframe thead th {\n",
       "        text-align: right;\n",
       "    }\n",
       "</style>\n",
       "<table border=\"1\" class=\"dataframe\">\n",
       "  <thead>\n",
       "    <tr style=\"text-align: right;\">\n",
       "      <th></th>\n",
       "      <th>Time</th>\n",
       "      <th>State</th>\n",
       "      <th>Group</th>\n",
       "      <th>Unit</th>\n",
       "      <th>Sales</th>\n",
       "    </tr>\n",
       "    <tr>\n",
       "      <th>Date</th>\n",
       "      <th></th>\n",
       "      <th></th>\n",
       "      <th></th>\n",
       "      <th></th>\n",
       "      <th></th>\n",
       "    </tr>\n",
       "  </thead>\n",
       "  <tbody>\n",
       "    <tr>\n",
       "      <th>2020-10-01</th>\n",
       "      <td>Morning</td>\n",
       "      <td>WA</td>\n",
       "      <td>Kids</td>\n",
       "      <td>8</td>\n",
       "      <td>20000</td>\n",
       "    </tr>\n",
       "    <tr>\n",
       "      <th>2020-10-01</th>\n",
       "      <td>Morning</td>\n",
       "      <td>WA</td>\n",
       "      <td>Men</td>\n",
       "      <td>8</td>\n",
       "      <td>20000</td>\n",
       "    </tr>\n",
       "    <tr>\n",
       "      <th>2020-10-01</th>\n",
       "      <td>Morning</td>\n",
       "      <td>WA</td>\n",
       "      <td>Women</td>\n",
       "      <td>4</td>\n",
       "      <td>10000</td>\n",
       "    </tr>\n",
       "    <tr>\n",
       "      <th>2020-10-01</th>\n",
       "      <td>Morning</td>\n",
       "      <td>WA</td>\n",
       "      <td>Seniors</td>\n",
       "      <td>15</td>\n",
       "      <td>37500</td>\n",
       "    </tr>\n",
       "    <tr>\n",
       "      <th>2020-10-01</th>\n",
       "      <td>Afternoon</td>\n",
       "      <td>WA</td>\n",
       "      <td>Kids</td>\n",
       "      <td>3</td>\n",
       "      <td>7500</td>\n",
       "    </tr>\n",
       "  </tbody>\n",
       "</table>\n",
       "</div>"
      ],
      "text/plain": [
       "                  Time State     Group  Unit  Sales\n",
       "Date                                               \n",
       "2020-10-01     Morning    WA      Kids     8  20000\n",
       "2020-10-01     Morning    WA       Men     8  20000\n",
       "2020-10-01     Morning    WA     Women     4  10000\n",
       "2020-10-01     Morning    WA   Seniors    15  37500\n",
       "2020-10-01   Afternoon    WA      Kids     3   7500"
      ]
     },
     "execution_count": 36,
     "metadata": {},
     "output_type": "execute_result"
    }
   ],
   "source": [
    "df.head()"
   ]
  },
  {
   "cell_type": "code",
   "execution_count": 37,
   "id": "81bc93af",
   "metadata": {},
   "outputs": [],
   "source": [
    "#Lets us now describe the dataframe"
   ]
  },
  {
   "cell_type": "code",
   "execution_count": 38,
   "id": "374b7646",
   "metadata": {},
   "outputs": [
    {
     "data": {
      "text/html": [
       "<div>\n",
       "<style scoped>\n",
       "    .dataframe tbody tr th:only-of-type {\n",
       "        vertical-align: middle;\n",
       "    }\n",
       "\n",
       "    .dataframe tbody tr th {\n",
       "        vertical-align: top;\n",
       "    }\n",
       "\n",
       "    .dataframe thead th {\n",
       "        text-align: right;\n",
       "    }\n",
       "</style>\n",
       "<table border=\"1\" class=\"dataframe\">\n",
       "  <thead>\n",
       "    <tr style=\"text-align: right;\">\n",
       "      <th></th>\n",
       "      <th>Unit</th>\n",
       "      <th>Sales</th>\n",
       "    </tr>\n",
       "  </thead>\n",
       "  <tbody>\n",
       "    <tr>\n",
       "      <th>count</th>\n",
       "      <td>7560.000000</td>\n",
       "      <td>7560.000000</td>\n",
       "    </tr>\n",
       "    <tr>\n",
       "      <th>mean</th>\n",
       "      <td>18.005423</td>\n",
       "      <td>45013.558201</td>\n",
       "    </tr>\n",
       "    <tr>\n",
       "      <th>std</th>\n",
       "      <td>12.901403</td>\n",
       "      <td>32253.506944</td>\n",
       "    </tr>\n",
       "    <tr>\n",
       "      <th>min</th>\n",
       "      <td>2.000000</td>\n",
       "      <td>5000.000000</td>\n",
       "    </tr>\n",
       "    <tr>\n",
       "      <th>25%</th>\n",
       "      <td>8.000000</td>\n",
       "      <td>20000.000000</td>\n",
       "    </tr>\n",
       "    <tr>\n",
       "      <th>50%</th>\n",
       "      <td>14.000000</td>\n",
       "      <td>35000.000000</td>\n",
       "    </tr>\n",
       "    <tr>\n",
       "      <th>75%</th>\n",
       "      <td>26.000000</td>\n",
       "      <td>65000.000000</td>\n",
       "    </tr>\n",
       "    <tr>\n",
       "      <th>max</th>\n",
       "      <td>65.000000</td>\n",
       "      <td>162500.000000</td>\n",
       "    </tr>\n",
       "  </tbody>\n",
       "</table>\n",
       "</div>"
      ],
      "text/plain": [
       "              Unit          Sales\n",
       "count  7560.000000    7560.000000\n",
       "mean     18.005423   45013.558201\n",
       "std      12.901403   32253.506944\n",
       "min       2.000000    5000.000000\n",
       "25%       8.000000   20000.000000\n",
       "50%      14.000000   35000.000000\n",
       "75%      26.000000   65000.000000\n",
       "max      65.000000  162500.000000"
      ]
     },
     "execution_count": 38,
     "metadata": {},
     "output_type": "execute_result"
    }
   ],
   "source": [
    "df.describe()"
   ]
  },
  {
   "cell_type": "markdown",
   "id": "1d6460d7",
   "metadata": {},
   "source": [
    "<h3>Statistical Analysis of Unit and Sales data </h3>"
   ]
  },
  {
   "cell_type": "markdown",
   "id": "301c7b31",
   "metadata": {},
   "source": [
    "<h4>Mean</h4>"
   ]
  },
  {
   "cell_type": "markdown",
   "id": "bb72a892",
   "metadata": {},
   "source": [
    "<h5>Daily Average of Units sold</h5>"
   ]
  },
  {
   "cell_type": "code",
   "execution_count": 39,
   "id": "03ec0bc6",
   "metadata": {},
   "outputs": [
    {
     "data": {
      "text/plain": [
       "18.00542328042328"
      ]
     },
     "execution_count": 39,
     "metadata": {},
     "output_type": "execute_result"
    }
   ],
   "source": [
    "df['Unit'].mean()  #Average number of units sold per day in 4th Quarter"
   ]
  },
  {
   "cell_type": "markdown",
   "id": "a745be36",
   "metadata": {},
   "source": [
    "<span style=\"background-color: #FFFF00\">\n",
    "    <b>On an average daily 18 units were sold in the 4th Quarter.</b>\n",
    "</span>"
   ]
  },
  {
   "cell_type": "markdown",
   "id": "495d3a97",
   "metadata": {},
   "source": [
    "<h5>Daily Average of Sales</h5>"
   ]
  },
  {
   "cell_type": "code",
   "execution_count": 40,
   "id": "57c7a179",
   "metadata": {},
   "outputs": [
    {
     "data": {
      "text/plain": [
       "45013.5582010582"
      ]
     },
     "execution_count": 40,
     "metadata": {},
     "output_type": "execute_result"
    }
   ],
   "source": [
    "np.mean(df['Sales'])  #Average Sales per day in 4th Quarter"
   ]
  },
  {
   "cell_type": "markdown",
   "id": "b4e7f112",
   "metadata": {},
   "source": [
    "<span style=\"background-color: #FFFF00\">\n",
    "    <b>Average daily sales during 4th Quarter was 45013.5582</b>\n",
    "</span>"
   ]
  },
  {
   "cell_type": "markdown",
   "id": "9a5af931",
   "metadata": {},
   "source": [
    "<h5>Weekly Average of Units sold and Sales</h5>"
   ]
  },
  {
   "cell_type": "code",
   "execution_count": 41,
   "id": "c90c351c",
   "metadata": {},
   "outputs": [
    {
     "data": {
      "text/html": [
       "<div>\n",
       "<style scoped>\n",
       "    .dataframe tbody tr th:only-of-type {\n",
       "        vertical-align: middle;\n",
       "    }\n",
       "\n",
       "    .dataframe tbody tr th {\n",
       "        vertical-align: top;\n",
       "    }\n",
       "\n",
       "    .dataframe thead th {\n",
       "        text-align: right;\n",
       "    }\n",
       "</style>\n",
       "<table border=\"1\" class=\"dataframe\">\n",
       "  <thead>\n",
       "    <tr style=\"text-align: right;\">\n",
       "      <th></th>\n",
       "      <th>Unit</th>\n",
       "      <th>Sales</th>\n",
       "    </tr>\n",
       "    <tr>\n",
       "      <th>Date</th>\n",
       "      <th></th>\n",
       "      <th></th>\n",
       "    </tr>\n",
       "  </thead>\n",
       "  <tbody>\n",
       "    <tr>\n",
       "      <th>2020-10-01</th>\n",
       "      <td>18.081633</td>\n",
       "      <td>45204.081633</td>\n",
       "    </tr>\n",
       "    <tr>\n",
       "      <th>2020-10-08</th>\n",
       "      <td>18.414966</td>\n",
       "      <td>46037.414966</td>\n",
       "    </tr>\n",
       "    <tr>\n",
       "      <th>2020-10-15</th>\n",
       "      <td>18.079932</td>\n",
       "      <td>45199.829932</td>\n",
       "    </tr>\n",
       "    <tr>\n",
       "      <th>2020-10-22</th>\n",
       "      <td>17.984694</td>\n",
       "      <td>44961.734694</td>\n",
       "    </tr>\n",
       "    <tr>\n",
       "      <th>2020-10-29</th>\n",
       "      <td>15.388889</td>\n",
       "      <td>38472.222222</td>\n",
       "    </tr>\n",
       "    <tr>\n",
       "      <th>2020-11-05</th>\n",
       "      <td>14.224490</td>\n",
       "      <td>35561.224490</td>\n",
       "    </tr>\n",
       "    <tr>\n",
       "      <th>2020-11-12</th>\n",
       "      <td>14.656463</td>\n",
       "      <td>36641.156463</td>\n",
       "    </tr>\n",
       "    <tr>\n",
       "      <th>2020-11-19</th>\n",
       "      <td>14.360544</td>\n",
       "      <td>35901.360544</td>\n",
       "    </tr>\n",
       "    <tr>\n",
       "      <th>2020-11-26</th>\n",
       "      <td>16.586735</td>\n",
       "      <td>41466.836735</td>\n",
       "    </tr>\n",
       "    <tr>\n",
       "      <th>2020-12-03</th>\n",
       "      <td>21.103741</td>\n",
       "      <td>52759.353741</td>\n",
       "    </tr>\n",
       "    <tr>\n",
       "      <th>2020-12-10</th>\n",
       "      <td>21.712585</td>\n",
       "      <td>54281.462585</td>\n",
       "    </tr>\n",
       "    <tr>\n",
       "      <th>2020-12-17</th>\n",
       "      <td>21.253401</td>\n",
       "      <td>53133.503401</td>\n",
       "    </tr>\n",
       "    <tr>\n",
       "      <th>2020-12-24</th>\n",
       "      <td>21.848639</td>\n",
       "      <td>54621.598639</td>\n",
       "    </tr>\n",
       "  </tbody>\n",
       "</table>\n",
       "</div>"
      ],
      "text/plain": [
       "                 Unit         Sales\n",
       "Date                               \n",
       "2020-10-01  18.081633  45204.081633\n",
       "2020-10-08  18.414966  46037.414966\n",
       "2020-10-15  18.079932  45199.829932\n",
       "2020-10-22  17.984694  44961.734694\n",
       "2020-10-29  15.388889  38472.222222\n",
       "2020-11-05  14.224490  35561.224490\n",
       "2020-11-12  14.656463  36641.156463\n",
       "2020-11-19  14.360544  35901.360544\n",
       "2020-11-26  16.586735  41466.836735\n",
       "2020-12-03  21.103741  52759.353741\n",
       "2020-12-10  21.712585  54281.462585\n",
       "2020-12-17  21.253401  53133.503401\n",
       "2020-12-24  21.848639  54621.598639"
      ]
     },
     "execution_count": 41,
     "metadata": {},
     "output_type": "execute_result"
    }
   ],
   "source": [
    "df.resample('7D').mean(numeric_only=True) #returns the weekly mean of the numeric columns"
   ]
  },
  {
   "cell_type": "markdown",
   "id": "ad7d260b",
   "metadata": {},
   "source": [
    "<h5>Monthly Average of Units sold and Sales</h5>"
   ]
  },
  {
   "cell_type": "code",
   "execution_count": 42,
   "id": "4fb99c52",
   "metadata": {},
   "outputs": [
    {
     "data": {
      "text/html": [
       "<div>\n",
       "<style scoped>\n",
       "    .dataframe tbody tr th:only-of-type {\n",
       "        vertical-align: middle;\n",
       "    }\n",
       "\n",
       "    .dataframe tbody tr th {\n",
       "        vertical-align: top;\n",
       "    }\n",
       "\n",
       "    .dataframe thead th {\n",
       "        text-align: right;\n",
       "    }\n",
       "</style>\n",
       "<table border=\"1\" class=\"dataframe\">\n",
       "  <thead>\n",
       "    <tr style=\"text-align: right;\">\n",
       "      <th></th>\n",
       "      <th>Unit</th>\n",
       "      <th>Sales</th>\n",
       "    </tr>\n",
       "    <tr>\n",
       "      <th>Date</th>\n",
       "      <th></th>\n",
       "      <th></th>\n",
       "    </tr>\n",
       "  </thead>\n",
       "  <tbody>\n",
       "    <tr>\n",
       "      <th>2020-10-31</th>\n",
       "      <td>18.141270</td>\n",
       "      <td>45353.174603</td>\n",
       "    </tr>\n",
       "    <tr>\n",
       "      <th>2020-11-30</th>\n",
       "      <td>14.394048</td>\n",
       "      <td>35985.119048</td>\n",
       "    </tr>\n",
       "    <tr>\n",
       "      <th>2020-12-31</th>\n",
       "      <td>21.480952</td>\n",
       "      <td>53702.380952</td>\n",
       "    </tr>\n",
       "  </tbody>\n",
       "</table>\n",
       "</div>"
      ],
      "text/plain": [
       "                 Unit         Sales\n",
       "Date                               \n",
       "2020-10-31  18.141270  45353.174603\n",
       "2020-11-30  14.394048  35985.119048\n",
       "2020-12-31  21.480952  53702.380952"
      ]
     },
     "execution_count": 42,
     "metadata": {},
     "output_type": "execute_result"
    }
   ],
   "source": [
    "df.resample('M').mean(numeric_only=True) # Returns the monthly mean of the numeric columns"
   ]
  },
  {
   "cell_type": "markdown",
   "id": "8a12303d",
   "metadata": {},
   "source": [
    "<h4>Median</h4>"
   ]
  },
  {
   "cell_type": "markdown",
   "id": "d59d9fee",
   "metadata": {},
   "source": [
    "<h5>Median of Units sold</h5>"
   ]
  },
  {
   "cell_type": "code",
   "execution_count": 43,
   "id": "1b17f0d4",
   "metadata": {},
   "outputs": [
    {
     "data": {
      "text/plain": [
       "14.0"
      ]
     },
     "execution_count": 43,
     "metadata": {},
     "output_type": "execute_result"
    }
   ],
   "source": [
    "df['Unit'].median()"
   ]
  },
  {
   "cell_type": "markdown",
   "id": "e36dd75b",
   "metadata": {},
   "source": [
    "<h5>Median of Sales</h5>"
   ]
  },
  {
   "cell_type": "code",
   "execution_count": 44,
   "id": "b1de99b1",
   "metadata": {},
   "outputs": [
    {
     "data": {
      "text/plain": [
       "35000.0"
      ]
     },
     "execution_count": 44,
     "metadata": {},
     "output_type": "execute_result"
    }
   ],
   "source": [
    "np.median(df['Sales'])"
   ]
  },
  {
   "cell_type": "markdown",
   "id": "55add84b",
   "metadata": {},
   "source": [
    "<h5>Weekly Median of Units sold and Sales</h5>"
   ]
  },
  {
   "cell_type": "code",
   "execution_count": 45,
   "id": "ade0526e",
   "metadata": {},
   "outputs": [
    {
     "data": {
      "text/html": [
       "<div>\n",
       "<style scoped>\n",
       "    .dataframe tbody tr th:only-of-type {\n",
       "        vertical-align: middle;\n",
       "    }\n",
       "\n",
       "    .dataframe tbody tr th {\n",
       "        vertical-align: top;\n",
       "    }\n",
       "\n",
       "    .dataframe thead th {\n",
       "        text-align: right;\n",
       "    }\n",
       "</style>\n",
       "<table border=\"1\" class=\"dataframe\">\n",
       "  <thead>\n",
       "    <tr style=\"text-align: right;\">\n",
       "      <th></th>\n",
       "      <th>Unit</th>\n",
       "      <th>Sales</th>\n",
       "    </tr>\n",
       "    <tr>\n",
       "      <th>Date</th>\n",
       "      <th></th>\n",
       "      <th></th>\n",
       "    </tr>\n",
       "  </thead>\n",
       "  <tbody>\n",
       "    <tr>\n",
       "      <th>2020-10-01</th>\n",
       "      <td>14.0</td>\n",
       "      <td>35000.0</td>\n",
       "    </tr>\n",
       "    <tr>\n",
       "      <th>2020-10-08</th>\n",
       "      <td>14.5</td>\n",
       "      <td>36250.0</td>\n",
       "    </tr>\n",
       "    <tr>\n",
       "      <th>2020-10-15</th>\n",
       "      <td>14.0</td>\n",
       "      <td>35000.0</td>\n",
       "    </tr>\n",
       "    <tr>\n",
       "      <th>2020-10-22</th>\n",
       "      <td>13.5</td>\n",
       "      <td>33750.0</td>\n",
       "    </tr>\n",
       "    <tr>\n",
       "      <th>2020-10-29</th>\n",
       "      <td>12.0</td>\n",
       "      <td>30000.0</td>\n",
       "    </tr>\n",
       "    <tr>\n",
       "      <th>2020-11-05</th>\n",
       "      <td>10.0</td>\n",
       "      <td>25000.0</td>\n",
       "    </tr>\n",
       "    <tr>\n",
       "      <th>2020-11-12</th>\n",
       "      <td>10.0</td>\n",
       "      <td>25000.0</td>\n",
       "    </tr>\n",
       "    <tr>\n",
       "      <th>2020-11-19</th>\n",
       "      <td>10.0</td>\n",
       "      <td>25000.0</td>\n",
       "    </tr>\n",
       "    <tr>\n",
       "      <th>2020-11-26</th>\n",
       "      <td>12.0</td>\n",
       "      <td>30000.0</td>\n",
       "    </tr>\n",
       "    <tr>\n",
       "      <th>2020-12-03</th>\n",
       "      <td>15.0</td>\n",
       "      <td>37500.0</td>\n",
       "    </tr>\n",
       "    <tr>\n",
       "      <th>2020-12-10</th>\n",
       "      <td>15.0</td>\n",
       "      <td>37500.0</td>\n",
       "    </tr>\n",
       "    <tr>\n",
       "      <th>2020-12-17</th>\n",
       "      <td>15.0</td>\n",
       "      <td>37500.0</td>\n",
       "    </tr>\n",
       "    <tr>\n",
       "      <th>2020-12-24</th>\n",
       "      <td>15.0</td>\n",
       "      <td>37500.0</td>\n",
       "    </tr>\n",
       "  </tbody>\n",
       "</table>\n",
       "</div>"
      ],
      "text/plain": [
       "            Unit    Sales\n",
       "Date                     \n",
       "2020-10-01  14.0  35000.0\n",
       "2020-10-08  14.5  36250.0\n",
       "2020-10-15  14.0  35000.0\n",
       "2020-10-22  13.5  33750.0\n",
       "2020-10-29  12.0  30000.0\n",
       "2020-11-05  10.0  25000.0\n",
       "2020-11-12  10.0  25000.0\n",
       "2020-11-19  10.0  25000.0\n",
       "2020-11-26  12.0  30000.0\n",
       "2020-12-03  15.0  37500.0\n",
       "2020-12-10  15.0  37500.0\n",
       "2020-12-17  15.0  37500.0\n",
       "2020-12-24  15.0  37500.0"
      ]
     },
     "execution_count": 45,
     "metadata": {},
     "output_type": "execute_result"
    }
   ],
   "source": [
    "df.resample('7D').median(numeric_only=True)"
   ]
  },
  {
   "cell_type": "markdown",
   "id": "f7c91d56",
   "metadata": {},
   "source": [
    "<h5>Monthly Median of Units sold and Sales</h5>"
   ]
  },
  {
   "cell_type": "code",
   "execution_count": 46,
   "id": "03546883",
   "metadata": {},
   "outputs": [
    {
     "data": {
      "text/html": [
       "<div>\n",
       "<style scoped>\n",
       "    .dataframe tbody tr th:only-of-type {\n",
       "        vertical-align: middle;\n",
       "    }\n",
       "\n",
       "    .dataframe tbody tr th {\n",
       "        vertical-align: top;\n",
       "    }\n",
       "\n",
       "    .dataframe thead th {\n",
       "        text-align: right;\n",
       "    }\n",
       "</style>\n",
       "<table border=\"1\" class=\"dataframe\">\n",
       "  <thead>\n",
       "    <tr style=\"text-align: right;\">\n",
       "      <th></th>\n",
       "      <th>Unit</th>\n",
       "      <th>Sales</th>\n",
       "    </tr>\n",
       "    <tr>\n",
       "      <th>Date</th>\n",
       "      <th></th>\n",
       "      <th></th>\n",
       "    </tr>\n",
       "  </thead>\n",
       "  <tbody>\n",
       "    <tr>\n",
       "      <th>2020-10-31</th>\n",
       "      <td>14.0</td>\n",
       "      <td>35000.0</td>\n",
       "    </tr>\n",
       "    <tr>\n",
       "      <th>2020-11-30</th>\n",
       "      <td>10.0</td>\n",
       "      <td>25000.0</td>\n",
       "    </tr>\n",
       "    <tr>\n",
       "      <th>2020-12-31</th>\n",
       "      <td>15.0</td>\n",
       "      <td>37500.0</td>\n",
       "    </tr>\n",
       "  </tbody>\n",
       "</table>\n",
       "</div>"
      ],
      "text/plain": [
       "            Unit    Sales\n",
       "Date                     \n",
       "2020-10-31  14.0  35000.0\n",
       "2020-11-30  10.0  25000.0\n",
       "2020-12-31  15.0  37500.0"
      ]
     },
     "execution_count": 46,
     "metadata": {},
     "output_type": "execute_result"
    }
   ],
   "source": [
    "df.resample('M').median(numeric_only=True)"
   ]
  },
  {
   "cell_type": "markdown",
   "id": "323bcc3d",
   "metadata": {},
   "source": [
    "<h4>Mode</h4>"
   ]
  },
  {
   "cell_type": "markdown",
   "id": "60cdb6a2",
   "metadata": {},
   "source": [
    "<h5>Mode of Units Sold</h5>"
   ]
  },
  {
   "cell_type": "code",
   "execution_count": 47,
   "id": "7e298c77",
   "metadata": {},
   "outputs": [
    {
     "data": {
      "text/plain": [
       "0    9\n",
       "Name: Unit, dtype: int64"
      ]
     },
     "execution_count": 47,
     "metadata": {},
     "output_type": "execute_result"
    }
   ],
   "source": [
    "df['Unit'].mode()"
   ]
  },
  {
   "cell_type": "markdown",
   "id": "5671bd7e",
   "metadata": {},
   "source": [
    "<h5>Mode of Sales</h5>"
   ]
  },
  {
   "cell_type": "code",
   "execution_count": 48,
   "id": "2c177c42",
   "metadata": {},
   "outputs": [
    {
     "data": {
      "text/plain": [
       "0    22500\n",
       "Name: Sales, dtype: int64"
      ]
     },
     "execution_count": 48,
     "metadata": {},
     "output_type": "execute_result"
    }
   ],
   "source": [
    "df['Sales'].mode()"
   ]
  },
  {
   "cell_type": "markdown",
   "id": "a39259d8",
   "metadata": {},
   "source": [
    "<h4>Standard Deviation</h5>"
   ]
  },
  {
   "cell_type": "markdown",
   "id": "485af8f6",
   "metadata": {},
   "source": [
    "<h5>Standard Deviation of Units sold</h5>"
   ]
  },
  {
   "cell_type": "code",
   "execution_count": 49,
   "id": "cdf97d88",
   "metadata": {},
   "outputs": [
    {
     "data": {
      "text/plain": [
       "12.901402777586458"
      ]
     },
     "execution_count": 49,
     "metadata": {},
     "output_type": "execute_result"
    }
   ],
   "source": [
    "df['Unit'].std()"
   ]
  },
  {
   "cell_type": "markdown",
   "id": "09e2186b",
   "metadata": {},
   "source": [
    "<h5>Standard Deviation of Sales</h5>"
   ]
  },
  {
   "cell_type": "code",
   "execution_count": 50,
   "id": "0b1f47b6",
   "metadata": {},
   "outputs": [
    {
     "data": {
      "text/plain": [
       "32251.373704971687"
      ]
     },
     "execution_count": 50,
     "metadata": {},
     "output_type": "execute_result"
    }
   ],
   "source": [
    "np.std(df['Sales'])"
   ]
  },
  {
   "cell_type": "markdown",
   "id": "64b08f71",
   "metadata": {},
   "source": [
    "<h4>Group with Highest and Lowest Sales</h4>"
   ]
  },
  {
   "cell_type": "code",
   "execution_count": 51,
   "id": "87a03bc0",
   "metadata": {},
   "outputs": [
    {
     "data": {
      "text/plain": [
       "[' Kids', ' Men', ' Women', ' Seniors']\n",
       "Categories (4, object): [' Kids', ' Men', ' Seniors', ' Women']"
      ]
     },
     "execution_count": 51,
     "metadata": {},
     "output_type": "execute_result"
    }
   ],
   "source": [
    "df['Group'].unique() #displaying the unique categories"
   ]
  },
  {
   "cell_type": "code",
   "execution_count": 52,
   "id": "f7c6c19c",
   "metadata": {},
   "outputs": [
    {
     "data": {
      "text/plain": [
       "Group\n",
       " Kids       1890\n",
       " Men        1890\n",
       " Seniors    1890\n",
       " Women      1890\n",
       "Name: count, dtype: int64"
      ]
     },
     "execution_count": 52,
     "metadata": {},
     "output_type": "execute_result"
    }
   ],
   "source": [
    "df['Group'].value_counts() #total rows of each category"
   ]
  },
  {
   "cell_type": "code",
   "execution_count": 53,
   "id": "1e404d04",
   "metadata": {},
   "outputs": [
    {
     "data": {
      "text/plain": [
       "State\n",
       " NSW    1080\n",
       " NT     1080\n",
       " QLD    1080\n",
       " SA     1080\n",
       " TAS    1080\n",
       " VIC    1080\n",
       " WA     1080\n",
       "Name: count, dtype: int64"
      ]
     },
     "execution_count": 53,
     "metadata": {},
     "output_type": "execute_result"
    }
   ],
   "source": [
    "df['State'].value_counts() #total rows of each category"
   ]
  },
  {
   "cell_type": "code",
   "execution_count": 79,
   "id": "80de9025",
   "metadata": {},
   "outputs": [
    {
     "data": {
      "text/plain": [
       "Time\n",
       " Afternoon    2520\n",
       " Evening      2520\n",
       " Morning      2520\n",
       "Name: count, dtype: int64"
      ]
     },
     "execution_count": 79,
     "metadata": {},
     "output_type": "execute_result"
    }
   ],
   "source": [
    "df['Time'].value_counts() #total rows of each category"
   ]
  },
  {
   "cell_type": "markdown",
   "id": "c1aa5777",
   "metadata": {},
   "source": [
    "<span style=\"background-color: #FFFF00\">\n",
    "    <b>We notice that the number of rows of each category of Group, State and Time are equal. So the Samples in the dataset are evenly balanced for each category. \n",
    "    So, there is a high probability that the results obtained will not be baised towards any one category.</b>\n",
    "</span>"
   ]
  },
  {
   "cell_type": "code",
   "execution_count": 135,
   "id": "7cebc2a2",
   "metadata": {},
   "outputs": [
    {
     "data": {
      "text/plain": [
       "<Axes: xlabel='Group', ylabel='Sales'>"
      ]
     },
     "execution_count": 135,
     "metadata": {},
     "output_type": "execute_result"
    },
    {
     "data": {
      "image/png": "[encoded data removed]",
      "text/plain": [
       "<Figure size 640x480 with 1 Axes>"
      ]
     },
     "metadata": {},
     "output_type": "display_data"
    }
   ],
   "source": [
    "sns.boxplot(data=df,x='Group',y='Sales',width=30)"
   ]
  },
  {
   "cell_type": "code",
   "execution_count": 82,
   "id": "f0f241dc",
   "metadata": {},
   "outputs": [
    {
     "data": {
      "text/plain": [
       "<Axes: ylabel='Density'>"
      ]
     },
     "execution_count": 82,
     "metadata": {},
     "output_type": "execute_result"
    },
    {
     "data": {
      "image/png": "[encoded data removed]",
      "text/plain": [
       "<Figure size 640x480 with 1 Axes>"
      ]
     },
     "metadata": {},
     "output_type": "display_data"
    }
   ],
   "source": [
    "df.Sales.plot(kind=\"kde\")"
   ]
  },
  {
   "cell_type": "code",
   "execution_count": 102,
   "id": "6865e12a",
   "metadata": {},
   "outputs": [
    {
     "data": {
      "image/png": "[encoded data removed]",
      "text/plain": [
       "<Figure size 640x480 with 1 Axes>"
      ]
     },
     "metadata": {},
     "output_type": "display_data"
    }
   ],
   "source": [
    "df.Sales.plot(kind=\"box\")"
   ]
  },
  {
   "cell_type": "code",
   "execution_count": 84,
   "id": "65eaba07",
   "metadata": {},
   "outputs": [
    {
     "data": {
      "text/html": [
       "<div>\n",
       "<style scoped>\n",
       "    .dataframe tbody tr th:only-of-type {\n",
       "        vertical-align: middle;\n",
       "    }\n",
       "\n",
       "    .dataframe tbody tr th {\n",
       "        vertical-align: top;\n",
       "    }\n",
       "\n",
       "    .dataframe thead th {\n",
       "        text-align: right;\n",
       "    }\n",
       "</style>\n",
       "<table border=\"1\" class=\"dataframe\">\n",
       "  <thead>\n",
       "    <tr style=\"text-align: right;\">\n",
       "      <th></th>\n",
       "      <th>Unit</th>\n",
       "      <th>Sales</th>\n",
       "    </tr>\n",
       "  </thead>\n",
       "  <tbody>\n",
       "    <tr>\n",
       "      <th>Unit</th>\n",
       "      <td>1.0</td>\n",
       "      <td>1.0</td>\n",
       "    </tr>\n",
       "    <tr>\n",
       "      <th>Sales</th>\n",
       "      <td>1.0</td>\n",
       "      <td>1.0</td>\n",
       "    </tr>\n",
       "  </tbody>\n",
       "</table>\n",
       "</div>"
      ],
      "text/plain": [
       "       Unit  Sales\n",
       "Unit    1.0    1.0\n",
       "Sales   1.0    1.0"
      ]
     },
     "execution_count": 84,
     "metadata": {},
     "output_type": "execute_result"
    }
   ],
   "source": [
    "df.corr(numeric_only=True)"
   ]
  },
  {
   "cell_type": "code",
   "execution_count": 85,
   "id": "92f11a49",
   "metadata": {},
   "outputs": [
    {
     "data": {
      "text/plain": [
       "<Axes: >"
      ]
     },
     "execution_count": 85,
     "metadata": {},
     "output_type": "execute_result"
    },
    {
     "data": {
      "image/png": "[encoded data removed]",
      "text/plain": [
       "<Figure size 640x480 with 2 Axes>"
      ]
     },
     "metadata": {},
     "output_type": "display_data"
    }
   ],
   "source": [
    "sns.heatmap(df.corr(numeric_only=True))"
   ]
  },
  {
   "cell_type": "code",
   "execution_count": 127,
   "id": "2841d1c5",
   "metadata": {},
   "outputs": [
    {
     "data": {
      "text/html": [
       "<div>\n",
       "<style scoped>\n",
       "    .dataframe tbody tr th:only-of-type {\n",
       "        vertical-align: middle;\n",
       "    }\n",
       "\n",
       "    .dataframe tbody tr th {\n",
       "        vertical-align: top;\n",
       "    }\n",
       "\n",
       "    .dataframe thead th {\n",
       "        text-align: right;\n",
       "    }\n",
       "</style>\n",
       "<table border=\"1\" class=\"dataframe\">\n",
       "  <thead>\n",
       "    <tr style=\"text-align: right;\">\n",
       "      <th>State</th>\n",
       "      <th>NSW</th>\n",
       "      <th>NT</th>\n",
       "      <th>QLD</th>\n",
       "      <th>SA</th>\n",
       "      <th>TAS</th>\n",
       "      <th>VIC</th>\n",
       "      <th>WA</th>\n",
       "    </tr>\n",
       "    <tr>\n",
       "      <th>Group</th>\n",
       "      <th></th>\n",
       "      <th></th>\n",
       "      <th></th>\n",
       "      <th></th>\n",
       "      <th></th>\n",
       "      <th></th>\n",
       "      <th></th>\n",
       "    </tr>\n",
       "  </thead>\n",
       "  <tbody>\n",
       "    <tr>\n",
       "      <th>Kids</th>\n",
       "      <td>270</td>\n",
       "      <td>270</td>\n",
       "      <td>270</td>\n",
       "      <td>270</td>\n",
       "      <td>270</td>\n",
       "      <td>270</td>\n",
       "      <td>270</td>\n",
       "    </tr>\n",
       "    <tr>\n",
       "      <th>Men</th>\n",
       "      <td>270</td>\n",
       "      <td>270</td>\n",
       "      <td>270</td>\n",
       "      <td>270</td>\n",
       "      <td>270</td>\n",
       "      <td>270</td>\n",
       "      <td>270</td>\n",
       "    </tr>\n",
       "    <tr>\n",
       "      <th>Seniors</th>\n",
       "      <td>270</td>\n",
       "      <td>270</td>\n",
       "      <td>270</td>\n",
       "      <td>270</td>\n",
       "      <td>270</td>\n",
       "      <td>270</td>\n",
       "      <td>270</td>\n",
       "    </tr>\n",
       "    <tr>\n",
       "      <th>Women</th>\n",
       "      <td>270</td>\n",
       "      <td>270</td>\n",
       "      <td>270</td>\n",
       "      <td>270</td>\n",
       "      <td>270</td>\n",
       "      <td>270</td>\n",
       "      <td>270</td>\n",
       "    </tr>\n",
       "  </tbody>\n",
       "</table>\n",
       "</div>"
      ],
      "text/plain": [
       "State      NSW   NT   QLD   SA   TAS   VIC   WA\n",
       "Group                                          \n",
       " Kids      270  270   270  270   270   270  270\n",
       " Men       270  270   270  270   270   270  270\n",
       " Seniors   270  270   270  270   270   270  270\n",
       " Women     270  270   270  270   270   270  270"
      ]
     },
     "execution_count": 127,
     "metadata": {},
     "output_type": "execute_result"
    }
   ],
   "source": [
    "pd.crosstab(df.Group,df.State)"
   ]
  },
  {
   "cell_type": "code",
   "execution_count": 128,
   "id": "fe0d5d4a",
   "metadata": {},
   "outputs": [
    {
     "data": {
      "text/html": [
       "<div>\n",
       "<style scoped>\n",
       "    .dataframe tbody tr th:only-of-type {\n",
       "        vertical-align: middle;\n",
       "    }\n",
       "\n",
       "    .dataframe tbody tr th {\n",
       "        vertical-align: top;\n",
       "    }\n",
       "\n",
       "    .dataframe thead th {\n",
       "        text-align: right;\n",
       "    }\n",
       "</style>\n",
       "<table border=\"1\" class=\"dataframe\">\n",
       "  <thead>\n",
       "    <tr style=\"text-align: right;\">\n",
       "      <th>State</th>\n",
       "      <th>NSW</th>\n",
       "      <th>NT</th>\n",
       "      <th>QLD</th>\n",
       "      <th>SA</th>\n",
       "      <th>TAS</th>\n",
       "      <th>VIC</th>\n",
       "      <th>WA</th>\n",
       "    </tr>\n",
       "    <tr>\n",
       "      <th>Time</th>\n",
       "      <th></th>\n",
       "      <th></th>\n",
       "      <th></th>\n",
       "      <th></th>\n",
       "      <th></th>\n",
       "      <th></th>\n",
       "      <th></th>\n",
       "    </tr>\n",
       "  </thead>\n",
       "  <tbody>\n",
       "    <tr>\n",
       "      <th>Afternoon</th>\n",
       "      <td>360</td>\n",
       "      <td>360</td>\n",
       "      <td>360</td>\n",
       "      <td>360</td>\n",
       "      <td>360</td>\n",
       "      <td>360</td>\n",
       "      <td>360</td>\n",
       "    </tr>\n",
       "    <tr>\n",
       "      <th>Evening</th>\n",
       "      <td>360</td>\n",
       "      <td>360</td>\n",
       "      <td>360</td>\n",
       "      <td>360</td>\n",
       "      <td>360</td>\n",
       "      <td>360</td>\n",
       "      <td>360</td>\n",
       "    </tr>\n",
       "    <tr>\n",
       "      <th>Morning</th>\n",
       "      <td>360</td>\n",
       "      <td>360</td>\n",
       "      <td>360</td>\n",
       "      <td>360</td>\n",
       "      <td>360</td>\n",
       "      <td>360</td>\n",
       "      <td>360</td>\n",
       "    </tr>\n",
       "  </tbody>\n",
       "</table>\n",
       "</div>"
      ],
      "text/plain": [
       "State        NSW   NT   QLD   SA   TAS   VIC   WA\n",
       "Time                                             \n",
       " Afternoon   360  360   360  360   360   360  360\n",
       " Evening     360  360   360  360   360   360  360\n",
       " Morning     360  360   360  360   360   360  360"
      ]
     },
     "execution_count": 128,
     "metadata": {},
     "output_type": "execute_result"
    }
   ],
   "source": [
    "pd.crosstab(df.Time,df.State)"
   ]
  },
  {
   "cell_type": "code",
   "execution_count": 137,
   "id": "634e6d20",
   "metadata": {},
   "outputs": [
    {
     "data": {
      "text/html": [
       "<div>\n",
       "<style scoped>\n",
       "    .dataframe tbody tr th:only-of-type {\n",
       "        vertical-align: middle;\n",
       "    }\n",
       "\n",
       "    .dataframe tbody tr th {\n",
       "        vertical-align: top;\n",
       "    }\n",
       "\n",
       "    .dataframe thead th {\n",
       "        text-align: right;\n",
       "    }\n",
       "</style>\n",
       "<table border=\"1\" class=\"dataframe\">\n",
       "  <thead>\n",
       "    <tr style=\"text-align: right;\">\n",
       "      <th>Group</th>\n",
       "      <th>Kids</th>\n",
       "      <th>Men</th>\n",
       "      <th>Seniors</th>\n",
       "      <th>Women</th>\n",
       "    </tr>\n",
       "    <tr>\n",
       "      <th>Time</th>\n",
       "      <th></th>\n",
       "      <th></th>\n",
       "      <th></th>\n",
       "      <th></th>\n",
       "    </tr>\n",
       "  </thead>\n",
       "  <tbody>\n",
       "    <tr>\n",
       "      <th>Afternoon</th>\n",
       "      <td>630</td>\n",
       "      <td>630</td>\n",
       "      <td>630</td>\n",
       "      <td>630</td>\n",
       "    </tr>\n",
       "    <tr>\n",
       "      <th>Evening</th>\n",
       "      <td>630</td>\n",
       "      <td>630</td>\n",
       "      <td>630</td>\n",
       "      <td>630</td>\n",
       "    </tr>\n",
       "    <tr>\n",
       "      <th>Morning</th>\n",
       "      <td>630</td>\n",
       "      <td>630</td>\n",
       "      <td>630</td>\n",
       "      <td>630</td>\n",
       "    </tr>\n",
       "  </tbody>\n",
       "</table>\n",
       "</div>"
      ],
      "text/plain": [
       "Group        Kids   Men   Seniors   Women\n",
       "Time                                     \n",
       " Afternoon    630   630       630     630\n",
       " Evening      630   630       630     630\n",
       " Morning      630   630       630     630"
      ]
     },
     "execution_count": 137,
     "metadata": {},
     "output_type": "execute_result"
    }
   ],
   "source": [
    "pd.crosstab(df.Time,df.Group)"
   ]
  },
  {
   "cell_type": "code",
   "execution_count": 87,
   "id": "5e512483",
   "metadata": {},
   "outputs": [
    {
     "data": {
      "text/plain": [
       "<Axes: xlabel='Group'>"
      ]
     },
     "execution_count": 87,
     "metadata": {},
     "output_type": "execute_result"
    },
    {
     "data": {
      "image/png": "[encoded data removed]",
      "text/plain": [
       "<Figure size 640x480 with 1 Axes>"
      ]
     },
     "metadata": {},
     "output_type": "display_data"
    }
   ],
   "source": [
    "pd.crosstab(df.Group,df.Sales).plot(kind=\"bar\")"
   ]
  },
  {
   "cell_type": "code",
   "execution_count": 54,
   "id": "1884b179",
   "metadata": {},
   "outputs": [
    {
     "data": {
      "text/html": [
       "<div>\n",
       "<style scoped>\n",
       "    .dataframe tbody tr th:only-of-type {\n",
       "        vertical-align: middle;\n",
       "    }\n",
       "\n",
       "    .dataframe tbody tr th {\n",
       "        vertical-align: top;\n",
       "    }\n",
       "\n",
       "    .dataframe thead th {\n",
       "        text-align: right;\n",
       "    }\n",
       "</style>\n",
       "<table border=\"1\" class=\"dataframe\">\n",
       "  <thead>\n",
       "    <tr style=\"text-align: right;\">\n",
       "      <th></th>\n",
       "      <th>Unit</th>\n",
       "      <th>Sales</th>\n",
       "    </tr>\n",
       "    <tr>\n",
       "      <th>Group</th>\n",
       "      <th></th>\n",
       "      <th></th>\n",
       "    </tr>\n",
       "  </thead>\n",
       "  <tbody>\n",
       "    <tr>\n",
       "      <th>Kids</th>\n",
       "      <td>34029</td>\n",
       "      <td>85072500</td>\n",
       "    </tr>\n",
       "    <tr>\n",
       "      <th>Men</th>\n",
       "      <td>34300</td>\n",
       "      <td>85750000</td>\n",
       "    </tr>\n",
       "    <tr>\n",
       "      <th>Seniors</th>\n",
       "      <td>33615</td>\n",
       "      <td>84037500</td>\n",
       "    </tr>\n",
       "    <tr>\n",
       "      <th>Women</th>\n",
       "      <td>34177</td>\n",
       "      <td>85442500</td>\n",
       "    </tr>\n",
       "  </tbody>\n",
       "</table>\n",
       "</div>"
      ],
      "text/plain": [
       "           Unit     Sales\n",
       "Group                    \n",
       " Kids     34029  85072500\n",
       " Men      34300  85750000\n",
       " Seniors  33615  84037500\n",
       " Women    34177  85442500"
      ]
     },
     "execution_count": 54,
     "metadata": {},
     "output_type": "execute_result"
    }
   ],
   "source": [
    "df.groupby(['Group'],observed=True).sum(numeric_only=True)"
   ]
  },
  {
   "cell_type": "markdown",
   "id": "a6acbc58",
   "metadata": {},
   "source": [
    "<h5>Group with Highest Sale</h5>"
   ]
  },
  {
   "cell_type": "code",
   "execution_count": 55,
   "id": "858130ce",
   "metadata": {},
   "outputs": [
    {
     "data": {
      "text/plain": [
       "85750000"
      ]
     },
     "execution_count": 55,
     "metadata": {},
     "output_type": "execute_result"
    }
   ],
   "source": [
    "df.groupby(['Group'],observed=True).sum(numeric_only=True).max()['Sales']"
   ]
  },
  {
   "cell_type": "markdown",
   "id": "9867f324",
   "metadata": {},
   "source": [
    "<span style=\"background-color: #FFFF00\">\n",
    "<b>Clearly, men category have highest sales in 4th Quarter. It stood at 85750000</b>\n",
    "</span>"
   ]
  },
  {
   "cell_type": "markdown",
   "id": "b83568b7",
   "metadata": {},
   "source": [
    "<h5>Group with lowest Sales</h5>"
   ]
  },
  {
   "cell_type": "code",
   "execution_count": 56,
   "id": "e45c2b82",
   "metadata": {},
   "outputs": [
    {
     "data": {
      "text/plain": [
       "84037500"
      ]
     },
     "execution_count": 56,
     "metadata": {},
     "output_type": "execute_result"
    }
   ],
   "source": [
    "df.groupby(['Group'],observed=True).sum(numeric_only=True).min()['Sales']"
   ]
  },
  {
   "cell_type": "markdown",
   "id": "b8727d84",
   "metadata": {},
   "source": [
    "<span style=\"background-color: #FFFF00\">\n",
    "<b>Clearly, seniors category have lowest sales in 4th Quarter. It stood at 84037500</b>\n",
    "</span>"
   ]
  },
  {
   "cell_type": "markdown",
   "id": "45238c2d",
   "metadata": {},
   "source": [
    "<h4>Group with Highest and Lowest Unit sold in 4th Quarter</h4>"
   ]
  },
  {
   "cell_type": "markdown",
   "id": "ac0d87a1",
   "metadata": {},
   "source": [
    "<h4>Group with highest Unit sold</h4>"
   ]
  },
  {
   "cell_type": "code",
   "execution_count": 57,
   "id": "898d925c",
   "metadata": {},
   "outputs": [
    {
     "data": {
      "text/plain": [
       "34300"
      ]
     },
     "execution_count": 57,
     "metadata": {},
     "output_type": "execute_result"
    }
   ],
   "source": [
    "df.groupby(['Group'],observed=True).sum(numeric_only=True).max()['Unit']"
   ]
  },
  {
   "cell_type": "markdown",
   "id": "984f6c5e",
   "metadata": {},
   "source": [
    "<span style=\"background-color: #FFFF00\">\n",
    "<b>Highest units sold were 34300 for men category</b>\n",
    "</span>"
   ]
  },
  {
   "cell_type": "markdown",
   "id": "73c98830",
   "metadata": {},
   "source": [
    "<h4>Group with lowest Unit sold</h4>"
   ]
  },
  {
   "cell_type": "code",
   "execution_count": 58,
   "id": "60f13162",
   "metadata": {},
   "outputs": [
    {
     "data": {
      "text/plain": [
       "33615"
      ]
     },
     "execution_count": 58,
     "metadata": {},
     "output_type": "execute_result"
    }
   ],
   "source": [
    "df.groupby(['Group'],observed=True).sum(numeric_only=True).min()['Unit']"
   ]
  },
  {
   "cell_type": "markdown",
   "id": "0049cc7d",
   "metadata": {},
   "source": [
    "<span style=\"background-color: #FFFF00\">\n",
    "<b>Lowest units sold were 33615 for Seniors category</b>\n",
    "</span>"
   ]
  },
  {
   "cell_type": "markdown",
   "id": "c3c2dc15",
   "metadata": {},
   "source": [
    "<h4>Weekly analysis of Units sold and Sales figures for various categories of Group</h4>"
   ]
  },
  {
   "cell_type": "code",
   "execution_count": 59,
   "id": "70dae988",
   "metadata": {},
   "outputs": [
    {
     "data": {
      "text/html": [
       "<div>\n",
       "<style scoped>\n",
       "    .dataframe tbody tr th:only-of-type {\n",
       "        vertical-align: middle;\n",
       "    }\n",
       "\n",
       "    .dataframe tbody tr th {\n",
       "        vertical-align: top;\n",
       "    }\n",
       "\n",
       "    .dataframe thead th {\n",
       "        text-align: right;\n",
       "    }\n",
       "</style>\n",
       "<table border=\"1\" class=\"dataframe\">\n",
       "  <thead>\n",
       "    <tr style=\"text-align: right;\">\n",
       "      <th></th>\n",
       "      <th></th>\n",
       "      <th>Unit</th>\n",
       "      <th>Sales</th>\n",
       "    </tr>\n",
       "    <tr>\n",
       "      <th>Group</th>\n",
       "      <th>Date</th>\n",
       "      <th></th>\n",
       "      <th></th>\n",
       "    </tr>\n",
       "  </thead>\n",
       "  <tbody>\n",
       "    <tr>\n",
       "      <th rowspan=\"13\" valign=\"top\">Kids</th>\n",
       "      <th>2020-10-01</th>\n",
       "      <td>2708</td>\n",
       "      <td>6770000</td>\n",
       "    </tr>\n",
       "    <tr>\n",
       "      <th>2020-10-08</th>\n",
       "      <td>2734</td>\n",
       "      <td>6835000</td>\n",
       "    </tr>\n",
       "    <tr>\n",
       "      <th>2020-10-15</th>\n",
       "      <td>2686</td>\n",
       "      <td>6715000</td>\n",
       "    </tr>\n",
       "    <tr>\n",
       "      <th>2020-10-22</th>\n",
       "      <td>2549</td>\n",
       "      <td>6372500</td>\n",
       "    </tr>\n",
       "    <tr>\n",
       "      <th>2020-10-29</th>\n",
       "      <td>1931</td>\n",
       "      <td>4827500</td>\n",
       "    </tr>\n",
       "    <tr>\n",
       "      <th>2020-11-05</th>\n",
       "      <td>2104</td>\n",
       "      <td>5260000</td>\n",
       "    </tr>\n",
       "    <tr>\n",
       "      <th>2020-11-12</th>\n",
       "      <td>2133</td>\n",
       "      <td>5332500</td>\n",
       "    </tr>\n",
       "    <tr>\n",
       "      <th>2020-11-19</th>\n",
       "      <td>2205</td>\n",
       "      <td>5512500</td>\n",
       "    </tr>\n",
       "    <tr>\n",
       "      <th>2020-11-26</th>\n",
       "      <td>2445</td>\n",
       "      <td>6112500</td>\n",
       "    </tr>\n",
       "    <tr>\n",
       "      <th>2020-12-03</th>\n",
       "      <td>3131</td>\n",
       "      <td>7827500</td>\n",
       "    </tr>\n",
       "    <tr>\n",
       "      <th>2020-12-10</th>\n",
       "      <td>3215</td>\n",
       "      <td>8037500</td>\n",
       "    </tr>\n",
       "    <tr>\n",
       "      <th>2020-12-17</th>\n",
       "      <td>3028</td>\n",
       "      <td>7570000</td>\n",
       "    </tr>\n",
       "    <tr>\n",
       "      <th>2020-12-24</th>\n",
       "      <td>3160</td>\n",
       "      <td>7900000</td>\n",
       "    </tr>\n",
       "    <tr>\n",
       "      <th rowspan=\"13\" valign=\"top\">Men</th>\n",
       "      <th>2020-10-01</th>\n",
       "      <td>2656</td>\n",
       "      <td>6640000</td>\n",
       "    </tr>\n",
       "    <tr>\n",
       "      <th>2020-10-08</th>\n",
       "      <td>2737</td>\n",
       "      <td>6842500</td>\n",
       "    </tr>\n",
       "    <tr>\n",
       "      <th>2020-10-15</th>\n",
       "      <td>2676</td>\n",
       "      <td>6690000</td>\n",
       "    </tr>\n",
       "    <tr>\n",
       "      <th>2020-10-22</th>\n",
       "      <td>2713</td>\n",
       "      <td>6782500</td>\n",
       "    </tr>\n",
       "    <tr>\n",
       "      <th>2020-10-29</th>\n",
       "      <td>1989</td>\n",
       "      <td>4972500</td>\n",
       "    </tr>\n",
       "    <tr>\n",
       "      <th>2020-11-05</th>\n",
       "      <td>2048</td>\n",
       "      <td>5120000</td>\n",
       "    </tr>\n",
       "    <tr>\n",
       "      <th>2020-11-12</th>\n",
       "      <td>2159</td>\n",
       "      <td>5397500</td>\n",
       "    </tr>\n",
       "    <tr>\n",
       "      <th>2020-11-19</th>\n",
       "      <td>2033</td>\n",
       "      <td>5082500</td>\n",
       "    </tr>\n",
       "    <tr>\n",
       "      <th>2020-11-26</th>\n",
       "      <td>2509</td>\n",
       "      <td>6272500</td>\n",
       "    </tr>\n",
       "    <tr>\n",
       "      <th>2020-12-03</th>\n",
       "      <td>3078</td>\n",
       "      <td>7695000</td>\n",
       "    </tr>\n",
       "    <tr>\n",
       "      <th>2020-12-10</th>\n",
       "      <td>3215</td>\n",
       "      <td>8037500</td>\n",
       "    </tr>\n",
       "    <tr>\n",
       "      <th>2020-12-17</th>\n",
       "      <td>3163</td>\n",
       "      <td>7907500</td>\n",
       "    </tr>\n",
       "    <tr>\n",
       "      <th>2020-12-24</th>\n",
       "      <td>3324</td>\n",
       "      <td>8310000</td>\n",
       "    </tr>\n",
       "    <tr>\n",
       "      <th rowspan=\"13\" valign=\"top\">Seniors</th>\n",
       "      <th>2020-10-01</th>\n",
       "      <td>2688</td>\n",
       "      <td>6720000</td>\n",
       "    </tr>\n",
       "    <tr>\n",
       "      <th>2020-10-08</th>\n",
       "      <td>2607</td>\n",
       "      <td>6517500</td>\n",
       "    </tr>\n",
       "    <tr>\n",
       "      <th>2020-10-15</th>\n",
       "      <td>2673</td>\n",
       "      <td>6682500</td>\n",
       "    </tr>\n",
       "    <tr>\n",
       "      <th>2020-10-22</th>\n",
       "      <td>2680</td>\n",
       "      <td>6700000</td>\n",
       "    </tr>\n",
       "    <tr>\n",
       "      <th>2020-10-29</th>\n",
       "      <td>1906</td>\n",
       "      <td>4765000</td>\n",
       "    </tr>\n",
       "    <tr>\n",
       "      <th>2020-11-05</th>\n",
       "      <td>2090</td>\n",
       "      <td>5225000</td>\n",
       "    </tr>\n",
       "    <tr>\n",
       "      <th>2020-11-12</th>\n",
       "      <td>2092</td>\n",
       "      <td>5230000</td>\n",
       "    </tr>\n",
       "    <tr>\n",
       "      <th>2020-11-19</th>\n",
       "      <td>2076</td>\n",
       "      <td>5190000</td>\n",
       "    </tr>\n",
       "    <tr>\n",
       "      <th>2020-11-26</th>\n",
       "      <td>2420</td>\n",
       "      <td>6050000</td>\n",
       "    </tr>\n",
       "    <tr>\n",
       "      <th>2020-12-03</th>\n",
       "      <td>3045</td>\n",
       "      <td>7612500</td>\n",
       "    </tr>\n",
       "    <tr>\n",
       "      <th>2020-12-10</th>\n",
       "      <td>3155</td>\n",
       "      <td>7887500</td>\n",
       "    </tr>\n",
       "    <tr>\n",
       "      <th>2020-12-17</th>\n",
       "      <td>3055</td>\n",
       "      <td>7637500</td>\n",
       "    </tr>\n",
       "    <tr>\n",
       "      <th>2020-12-24</th>\n",
       "      <td>3128</td>\n",
       "      <td>7820000</td>\n",
       "    </tr>\n",
       "    <tr>\n",
       "      <th rowspan=\"13\" valign=\"top\">Women</th>\n",
       "      <th>2020-10-01</th>\n",
       "      <td>2580</td>\n",
       "      <td>6450000</td>\n",
       "    </tr>\n",
       "    <tr>\n",
       "      <th>2020-10-08</th>\n",
       "      <td>2750</td>\n",
       "      <td>6875000</td>\n",
       "    </tr>\n",
       "    <tr>\n",
       "      <th>2020-10-15</th>\n",
       "      <td>2596</td>\n",
       "      <td>6490000</td>\n",
       "    </tr>\n",
       "    <tr>\n",
       "      <th>2020-10-22</th>\n",
       "      <td>2633</td>\n",
       "      <td>6582500</td>\n",
       "    </tr>\n",
       "    <tr>\n",
       "      <th>2020-10-29</th>\n",
       "      <td>1930</td>\n",
       "      <td>4825000</td>\n",
       "    </tr>\n",
       "    <tr>\n",
       "      <th>2020-11-05</th>\n",
       "      <td>2122</td>\n",
       "      <td>5305000</td>\n",
       "    </tr>\n",
       "    <tr>\n",
       "      <th>2020-11-12</th>\n",
       "      <td>2234</td>\n",
       "      <td>5585000</td>\n",
       "    </tr>\n",
       "    <tr>\n",
       "      <th>2020-11-19</th>\n",
       "      <td>2130</td>\n",
       "      <td>5325000</td>\n",
       "    </tr>\n",
       "    <tr>\n",
       "      <th>2020-11-26</th>\n",
       "      <td>2379</td>\n",
       "      <td>5947500</td>\n",
       "    </tr>\n",
       "    <tr>\n",
       "      <th>2020-12-03</th>\n",
       "      <td>3155</td>\n",
       "      <td>7887500</td>\n",
       "    </tr>\n",
       "    <tr>\n",
       "      <th>2020-12-10</th>\n",
       "      <td>3182</td>\n",
       "      <td>7955000</td>\n",
       "    </tr>\n",
       "    <tr>\n",
       "      <th>2020-12-17</th>\n",
       "      <td>3251</td>\n",
       "      <td>8127500</td>\n",
       "    </tr>\n",
       "    <tr>\n",
       "      <th>2020-12-24</th>\n",
       "      <td>3235</td>\n",
       "      <td>8087500</td>\n",
       "    </tr>\n",
       "  </tbody>\n",
       "</table>\n",
       "</div>"
      ],
      "text/plain": [
       "                     Unit    Sales\n",
       "Group    Date                     \n",
       " Kids    2020-10-01  2708  6770000\n",
       "         2020-10-08  2734  6835000\n",
       "         2020-10-15  2686  6715000\n",
       "         2020-10-22  2549  6372500\n",
       "         2020-10-29  1931  4827500\n",
       "         2020-11-05  2104  5260000\n",
       "         2020-11-12  2133  5332500\n",
       "         2020-11-19  2205  5512500\n",
       "         2020-11-26  2445  6112500\n",
       "         2020-12-03  3131  7827500\n",
       "         2020-12-10  3215  8037500\n",
       "         2020-12-17  3028  7570000\n",
       "         2020-12-24  3160  7900000\n",
       " Men     2020-10-01  2656  6640000\n",
       "         2020-10-08  2737  6842500\n",
       "         2020-10-15  2676  6690000\n",
       "         2020-10-22  2713  6782500\n",
       "         2020-10-29  1989  4972500\n",
       "         2020-11-05  2048  5120000\n",
       "         2020-11-12  2159  5397500\n",
       "         2020-11-19  2033  5082500\n",
       "         2020-11-26  2509  6272500\n",
       "         2020-12-03  3078  7695000\n",
       "         2020-12-10  3215  8037500\n",
       "         2020-12-17  3163  7907500\n",
       "         2020-12-24  3324  8310000\n",
       " Seniors 2020-10-01  2688  6720000\n",
       "         2020-10-08  2607  6517500\n",
       "         2020-10-15  2673  6682500\n",
       "         2020-10-22  2680  6700000\n",
       "         2020-10-29  1906  4765000\n",
       "         2020-11-05  2090  5225000\n",
       "         2020-11-12  2092  5230000\n",
       "         2020-11-19  2076  5190000\n",
       "         2020-11-26  2420  6050000\n",
       "         2020-12-03  3045  7612500\n",
       "         2020-12-10  3155  7887500\n",
       "         2020-12-17  3055  7637500\n",
       "         2020-12-24  3128  7820000\n",
       " Women   2020-10-01  2580  6450000\n",
       "         2020-10-08  2750  6875000\n",
       "         2020-10-15  2596  6490000\n",
       "         2020-10-22  2633  6582500\n",
       "         2020-10-29  1930  4825000\n",
       "         2020-11-05  2122  5305000\n",
       "         2020-11-12  2234  5585000\n",
       "         2020-11-19  2130  5325000\n",
       "         2020-11-26  2379  5947500\n",
       "         2020-12-03  3155  7887500\n",
       "         2020-12-10  3182  7955000\n",
       "         2020-12-17  3251  8127500\n",
       "         2020-12-24  3235  8087500"
      ]
     },
     "execution_count": 59,
     "metadata": {},
     "output_type": "execute_result"
    }
   ],
   "source": [
    "df.groupby(['Group'],observed=False).resample('7D').sum(numeric_only=True)"
   ]
  },
  {
   "cell_type": "markdown",
   "id": "4bca5cfb",
   "metadata": {},
   "source": [
    "<h4>Monthly analysis of Units sold and Sales figures of various categories in Group</h4>"
   ]
  },
  {
   "cell_type": "code",
   "execution_count": 60,
   "id": "92f9d6b2",
   "metadata": {},
   "outputs": [
    {
     "data": {
      "text/html": [
       "<div>\n",
       "<style scoped>\n",
       "    .dataframe tbody tr th:only-of-type {\n",
       "        vertical-align: middle;\n",
       "    }\n",
       "\n",
       "    .dataframe tbody tr th {\n",
       "        vertical-align: top;\n",
       "    }\n",
       "\n",
       "    .dataframe thead th {\n",
       "        text-align: right;\n",
       "    }\n",
       "</style>\n",
       "<table border=\"1\" class=\"dataframe\">\n",
       "  <thead>\n",
       "    <tr style=\"text-align: right;\">\n",
       "      <th></th>\n",
       "      <th></th>\n",
       "      <th>Unit</th>\n",
       "      <th>Sales</th>\n",
       "    </tr>\n",
       "    <tr>\n",
       "      <th>Group</th>\n",
       "      <th>Date</th>\n",
       "      <th></th>\n",
       "      <th></th>\n",
       "    </tr>\n",
       "  </thead>\n",
       "  <tbody>\n",
       "    <tr>\n",
       "      <th rowspan=\"3\" valign=\"top\">Kids</th>\n",
       "      <th>2020-10-31</th>\n",
       "      <td>11454</td>\n",
       "      <td>28635000</td>\n",
       "    </tr>\n",
       "    <tr>\n",
       "      <th>2020-11-30</th>\n",
       "      <td>9153</td>\n",
       "      <td>22882500</td>\n",
       "    </tr>\n",
       "    <tr>\n",
       "      <th>2020-12-31</th>\n",
       "      <td>13422</td>\n",
       "      <td>33555000</td>\n",
       "    </tr>\n",
       "    <tr>\n",
       "      <th rowspan=\"3\" valign=\"top\">Men</th>\n",
       "      <th>2020-10-31</th>\n",
       "      <td>11554</td>\n",
       "      <td>28885000</td>\n",
       "    </tr>\n",
       "    <tr>\n",
       "      <th>2020-11-30</th>\n",
       "      <td>9046</td>\n",
       "      <td>22615000</td>\n",
       "    </tr>\n",
       "    <tr>\n",
       "      <th>2020-12-31</th>\n",
       "      <td>13700</td>\n",
       "      <td>34250000</td>\n",
       "    </tr>\n",
       "    <tr>\n",
       "      <th rowspan=\"3\" valign=\"top\">Seniors</th>\n",
       "      <th>2020-10-31</th>\n",
       "      <td>11426</td>\n",
       "      <td>28565000</td>\n",
       "    </tr>\n",
       "    <tr>\n",
       "      <th>2020-11-30</th>\n",
       "      <td>8929</td>\n",
       "      <td>22322500</td>\n",
       "    </tr>\n",
       "    <tr>\n",
       "      <th>2020-12-31</th>\n",
       "      <td>13260</td>\n",
       "      <td>33150000</td>\n",
       "    </tr>\n",
       "    <tr>\n",
       "      <th rowspan=\"3\" valign=\"top\">Women</th>\n",
       "      <th>2020-10-31</th>\n",
       "      <td>11282</td>\n",
       "      <td>28205000</td>\n",
       "    </tr>\n",
       "    <tr>\n",
       "      <th>2020-11-30</th>\n",
       "      <td>9145</td>\n",
       "      <td>22862500</td>\n",
       "    </tr>\n",
       "    <tr>\n",
       "      <th>2020-12-31</th>\n",
       "      <td>13750</td>\n",
       "      <td>34375000</td>\n",
       "    </tr>\n",
       "  </tbody>\n",
       "</table>\n",
       "</div>"
      ],
      "text/plain": [
       "                      Unit     Sales\n",
       "Group    Date                       \n",
       " Kids    2020-10-31  11454  28635000\n",
       "         2020-11-30   9153  22882500\n",
       "         2020-12-31  13422  33555000\n",
       " Men     2020-10-31  11554  28885000\n",
       "         2020-11-30   9046  22615000\n",
       "         2020-12-31  13700  34250000\n",
       " Seniors 2020-10-31  11426  28565000\n",
       "         2020-11-30   8929  22322500\n",
       "         2020-12-31  13260  33150000\n",
       " Women   2020-10-31  11282  28205000\n",
       "         2020-11-30   9145  22862500\n",
       "         2020-12-31  13750  34375000"
      ]
     },
     "execution_count": 60,
     "metadata": {},
     "output_type": "execute_result"
    }
   ],
   "source": [
    "df.groupby(['Group'],observed=False).resample('M').sum(numeric_only=True)"
   ]
  },
  {
   "cell_type": "markdown",
   "id": "a360cf52",
   "metadata": {},
   "source": [
    "<h4>4th Quarter analysis of Units sold and sales figures</h4>"
   ]
  },
  {
   "cell_type": "code",
   "execution_count": 61,
   "id": "6cde5bd1",
   "metadata": {},
   "outputs": [
    {
     "data": {
      "text/html": [
       "<div>\n",
       "<style scoped>\n",
       "    .dataframe tbody tr th:only-of-type {\n",
       "        vertical-align: middle;\n",
       "    }\n",
       "\n",
       "    .dataframe tbody tr th {\n",
       "        vertical-align: top;\n",
       "    }\n",
       "\n",
       "    .dataframe thead th {\n",
       "        text-align: right;\n",
       "    }\n",
       "</style>\n",
       "<table border=\"1\" class=\"dataframe\">\n",
       "  <thead>\n",
       "    <tr style=\"text-align: right;\">\n",
       "      <th></th>\n",
       "      <th></th>\n",
       "      <th>Unit</th>\n",
       "      <th>Sales</th>\n",
       "    </tr>\n",
       "    <tr>\n",
       "      <th>Group</th>\n",
       "      <th>Date</th>\n",
       "      <th></th>\n",
       "      <th></th>\n",
       "    </tr>\n",
       "  </thead>\n",
       "  <tbody>\n",
       "    <tr>\n",
       "      <th rowspan=\"3\" valign=\"top\">Kids</th>\n",
       "      <th>2020-10-31</th>\n",
       "      <td>11454</td>\n",
       "      <td>28635000</td>\n",
       "    </tr>\n",
       "    <tr>\n",
       "      <th>2020-11-30</th>\n",
       "      <td>9153</td>\n",
       "      <td>22882500</td>\n",
       "    </tr>\n",
       "    <tr>\n",
       "      <th>2020-12-31</th>\n",
       "      <td>13422</td>\n",
       "      <td>33555000</td>\n",
       "    </tr>\n",
       "    <tr>\n",
       "      <th rowspan=\"3\" valign=\"top\">Men</th>\n",
       "      <th>2020-10-31</th>\n",
       "      <td>11554</td>\n",
       "      <td>28885000</td>\n",
       "    </tr>\n",
       "    <tr>\n",
       "      <th>2020-11-30</th>\n",
       "      <td>9046</td>\n",
       "      <td>22615000</td>\n",
       "    </tr>\n",
       "    <tr>\n",
       "      <th>2020-12-31</th>\n",
       "      <td>13700</td>\n",
       "      <td>34250000</td>\n",
       "    </tr>\n",
       "    <tr>\n",
       "      <th rowspan=\"3\" valign=\"top\">Seniors</th>\n",
       "      <th>2020-10-31</th>\n",
       "      <td>11426</td>\n",
       "      <td>28565000</td>\n",
       "    </tr>\n",
       "    <tr>\n",
       "      <th>2020-11-30</th>\n",
       "      <td>8929</td>\n",
       "      <td>22322500</td>\n",
       "    </tr>\n",
       "    <tr>\n",
       "      <th>2020-12-31</th>\n",
       "      <td>13260</td>\n",
       "      <td>33150000</td>\n",
       "    </tr>\n",
       "    <tr>\n",
       "      <th rowspan=\"3\" valign=\"top\">Women</th>\n",
       "      <th>2020-10-31</th>\n",
       "      <td>11282</td>\n",
       "      <td>28205000</td>\n",
       "    </tr>\n",
       "    <tr>\n",
       "      <th>2020-11-30</th>\n",
       "      <td>9145</td>\n",
       "      <td>22862500</td>\n",
       "    </tr>\n",
       "    <tr>\n",
       "      <th>2020-12-31</th>\n",
       "      <td>13750</td>\n",
       "      <td>34375000</td>\n",
       "    </tr>\n",
       "  </tbody>\n",
       "</table>\n",
       "</div>"
      ],
      "text/plain": [
       "                      Unit     Sales\n",
       "Group    Date                       \n",
       " Kids    2020-10-31  11454  28635000\n",
       "         2020-11-30   9153  22882500\n",
       "         2020-12-31  13422  33555000\n",
       " Men     2020-10-31  11554  28885000\n",
       "         2020-11-30   9046  22615000\n",
       "         2020-12-31  13700  34250000\n",
       " Seniors 2020-10-31  11426  28565000\n",
       "         2020-11-30   8929  22322500\n",
       "         2020-12-31  13260  33150000\n",
       " Women   2020-10-31  11282  28205000\n",
       "         2020-11-30   9145  22862500\n",
       "         2020-12-31  13750  34375000"
      ]
     },
     "execution_count": 61,
     "metadata": {},
     "output_type": "execute_result"
    }
   ],
   "source": [
    "df.groupby(['Group'],observed=False).resample('M').sum(numeric_only=True)"
   ]
  },
  {
   "cell_type": "markdown",
   "id": "c86b2489",
   "metadata": {},
   "source": [
    "<h4>Month-wise biffurcation of Sales data of 4th Quarter</h4>"
   ]
  },
  {
   "cell_type": "code",
   "execution_count": 62,
   "id": "46eb735e",
   "metadata": {},
   "outputs": [
    {
     "data": {
      "text/html": [
       "<div>\n",
       "<style scoped>\n",
       "    .dataframe tbody tr th:only-of-type {\n",
       "        vertical-align: middle;\n",
       "    }\n",
       "\n",
       "    .dataframe tbody tr th {\n",
       "        vertical-align: top;\n",
       "    }\n",
       "\n",
       "    .dataframe thead th {\n",
       "        text-align: right;\n",
       "    }\n",
       "</style>\n",
       "<table border=\"1\" class=\"dataframe\">\n",
       "  <thead>\n",
       "    <tr style=\"text-align: right;\">\n",
       "      <th></th>\n",
       "      <th>Unit</th>\n",
       "      <th>Sales</th>\n",
       "    </tr>\n",
       "    <tr>\n",
       "      <th>Date</th>\n",
       "      <th></th>\n",
       "      <th></th>\n",
       "    </tr>\n",
       "  </thead>\n",
       "  <tbody>\n",
       "    <tr>\n",
       "      <th>2020-10-31</th>\n",
       "      <td>45716</td>\n",
       "      <td>114290000</td>\n",
       "    </tr>\n",
       "    <tr>\n",
       "      <th>2020-11-30</th>\n",
       "      <td>36273</td>\n",
       "      <td>90682500</td>\n",
       "    </tr>\n",
       "    <tr>\n",
       "      <th>2020-12-31</th>\n",
       "      <td>54132</td>\n",
       "      <td>135330000</td>\n",
       "    </tr>\n",
       "  </tbody>\n",
       "</table>\n",
       "</div>"
      ],
      "text/plain": [
       "             Unit      Sales\n",
       "Date                        \n",
       "2020-10-31  45716  114290000\n",
       "2020-11-30  36273   90682500\n",
       "2020-12-31  54132  135330000"
      ]
     },
     "execution_count": 62,
     "metadata": {},
     "output_type": "execute_result"
    }
   ],
   "source": [
    "plot_df=df.resample('M').sum(numeric_only=True)\n",
    "plot_df"
   ]
  },
  {
   "cell_type": "code",
   "execution_count": 63,
   "id": "b25a3729",
   "metadata": {},
   "outputs": [
    {
     "data": {
      "text/plain": [
       "<Axes: xlabel='Date', ylabel='Sales'>"
      ]
     },
     "execution_count": 63,
     "metadata": {},
     "output_type": "execute_result"
    },
    {
     "data": {
      "image/png": "[encoded data removed]",
      "text/plain": [
       "<Figure size 640x480 with 1 Axes>"
      ]
     },
     "metadata": {},
     "output_type": "display_data"
    }
   ],
   "source": [
    "sns.barplot(data=plot_df['Sales'])"
   ]
  },
  {
   "cell_type": "code",
   "execution_count": 64,
   "id": "0ce506b6",
   "metadata": {},
   "outputs": [
    {
     "data": {
      "text/plain": [
       "<Axes: ylabel='Sales'>"
      ]
     },
     "execution_count": 64,
     "metadata": {},
     "output_type": "execute_result"
    },
    {
     "data": {
      "image/png": "[encoded data removed]",
      "text/plain": [
       "<Figure size 640x480 with 1 Axes>"
      ]
     },
     "metadata": {},
     "output_type": "display_data"
    }
   ],
   "source": [
    "df.resample('M').sum(numeric_only=True)['Sales'].plot(kind=\"pie\",legend=True)"
   ]
  },
  {
   "cell_type": "code",
   "execution_count": 65,
   "id": "96b363eb",
   "metadata": {},
   "outputs": [
    {
     "data": {
      "text/plain": [
       "<Axes: xlabel='Date'>"
      ]
     },
     "execution_count": 65,
     "metadata": {},
     "output_type": "execute_result"
    },
    {
     "data": {
      "image/png": "[encoded data removed]",
      "text/plain": [
       "<Figure size 640x480 with 1 Axes>"
      ]
     },
     "metadata": {},
     "output_type": "display_data"
    }
   ],
   "source": [
    "df.resample('M').sum(numeric_only=True)['Unit'].plot(kind=\"bar\",legend=True)"
   ]
  },
  {
   "cell_type": "code",
   "execution_count": 66,
   "id": "8c8fd41d",
   "metadata": {},
   "outputs": [
    {
     "data": {
      "text/plain": [
       "Unit         54132\n",
       "Sales    135330000\n",
       "dtype: int64"
      ]
     },
     "execution_count": 66,
     "metadata": {},
     "output_type": "execute_result"
    }
   ],
   "source": [
    "df.resample('M').sum(numeric_only=True).max()"
   ]
  },
  {
   "cell_type": "markdown",
   "id": "42b766e6",
   "metadata": {},
   "source": [
    "<span style=\"background-color: #FFFF00\">\n",
    "    <b>Clearly, the December month saw the highest figures in terms of units sold and Sales amount. This may be atributed to the festive season. The month of \n",
    "    November saw a dip in the sales figues. This may be probably due to people saving for the month of December, the Christmas month</b>\n",
    "</span>"
   ]
  },
  {
   "cell_type": "markdown",
   "id": "e25b3f20",
   "metadata": {},
   "source": [
    "<h3>Normalisation</h3>"
   ]
  },
  {
   "cell_type": "code",
   "execution_count": 67,
   "id": "c06cc7cd",
   "metadata": {},
   "outputs": [],
   "source": [
    "df['Sales']=df['Sales']/df['Sales'].max()"
   ]
  },
  {
   "cell_type": "code",
   "execution_count": 68,
   "id": "4fffd1b6",
   "metadata": {},
   "outputs": [
    {
     "data": {
      "text/html": [
       "<div>\n",
       "<style scoped>\n",
       "    .dataframe tbody tr th:only-of-type {\n",
       "        vertical-align: middle;\n",
       "    }\n",
       "\n",
       "    .dataframe tbody tr th {\n",
       "        vertical-align: top;\n",
       "    }\n",
       "\n",
       "    .dataframe thead th {\n",
       "        text-align: right;\n",
       "    }\n",
       "</style>\n",
       "<table border=\"1\" class=\"dataframe\">\n",
       "  <thead>\n",
       "    <tr style=\"text-align: right;\">\n",
       "      <th></th>\n",
       "      <th>Time</th>\n",
       "      <th>State</th>\n",
       "      <th>Group</th>\n",
       "      <th>Unit</th>\n",
       "      <th>Sales</th>\n",
       "    </tr>\n",
       "    <tr>\n",
       "      <th>Date</th>\n",
       "      <th></th>\n",
       "      <th></th>\n",
       "      <th></th>\n",
       "      <th></th>\n",
       "      <th></th>\n",
       "    </tr>\n",
       "  </thead>\n",
       "  <tbody>\n",
       "    <tr>\n",
       "      <th>2020-10-01</th>\n",
       "      <td>Morning</td>\n",
       "      <td>WA</td>\n",
       "      <td>Kids</td>\n",
       "      <td>8</td>\n",
       "      <td>0.123077</td>\n",
       "    </tr>\n",
       "    <tr>\n",
       "      <th>2020-10-01</th>\n",
       "      <td>Morning</td>\n",
       "      <td>WA</td>\n",
       "      <td>Men</td>\n",
       "      <td>8</td>\n",
       "      <td>0.123077</td>\n",
       "    </tr>\n",
       "    <tr>\n",
       "      <th>2020-10-01</th>\n",
       "      <td>Morning</td>\n",
       "      <td>WA</td>\n",
       "      <td>Women</td>\n",
       "      <td>4</td>\n",
       "      <td>0.061538</td>\n",
       "    </tr>\n",
       "    <tr>\n",
       "      <th>2020-10-01</th>\n",
       "      <td>Morning</td>\n",
       "      <td>WA</td>\n",
       "      <td>Seniors</td>\n",
       "      <td>15</td>\n",
       "      <td>0.230769</td>\n",
       "    </tr>\n",
       "    <tr>\n",
       "      <th>2020-10-01</th>\n",
       "      <td>Afternoon</td>\n",
       "      <td>WA</td>\n",
       "      <td>Kids</td>\n",
       "      <td>3</td>\n",
       "      <td>0.046154</td>\n",
       "    </tr>\n",
       "  </tbody>\n",
       "</table>\n",
       "</div>"
      ],
      "text/plain": [
       "                  Time State     Group  Unit     Sales\n",
       "Date                                                  \n",
       "2020-10-01     Morning    WA      Kids     8  0.123077\n",
       "2020-10-01     Morning    WA       Men     8  0.123077\n",
       "2020-10-01     Morning    WA     Women     4  0.061538\n",
       "2020-10-01     Morning    WA   Seniors    15  0.230769\n",
       "2020-10-01   Afternoon    WA      Kids     3  0.046154"
      ]
     },
     "execution_count": 68,
     "metadata": {},
     "output_type": "execute_result"
    }
   ],
   "source": [
    "df.head()"
   ]
  },
  {
   "cell_type": "code",
   "execution_count": 69,
   "id": "b991b834",
   "metadata": {},
   "outputs": [],
   "source": [
    "df['Unit']=df['Unit']/df['Unit'].max()"
   ]
  },
  {
   "cell_type": "code",
   "execution_count": 70,
   "id": "02c3f89d",
   "metadata": {},
   "outputs": [
    {
     "data": {
      "text/html": [
       "<div>\n",
       "<style scoped>\n",
       "    .dataframe tbody tr th:only-of-type {\n",
       "        vertical-align: middle;\n",
       "    }\n",
       "\n",
       "    .dataframe tbody tr th {\n",
       "        vertical-align: top;\n",
       "    }\n",
       "\n",
       "    .dataframe thead th {\n",
       "        text-align: right;\n",
       "    }\n",
       "</style>\n",
       "<table border=\"1\" class=\"dataframe\">\n",
       "  <thead>\n",
       "    <tr style=\"text-align: right;\">\n",
       "      <th></th>\n",
       "      <th>Time</th>\n",
       "      <th>State</th>\n",
       "      <th>Group</th>\n",
       "      <th>Unit</th>\n",
       "      <th>Sales</th>\n",
       "    </tr>\n",
       "    <tr>\n",
       "      <th>Date</th>\n",
       "      <th></th>\n",
       "      <th></th>\n",
       "      <th></th>\n",
       "      <th></th>\n",
       "      <th></th>\n",
       "    </tr>\n",
       "  </thead>\n",
       "  <tbody>\n",
       "    <tr>\n",
       "      <th>2020-10-01</th>\n",
       "      <td>Morning</td>\n",
       "      <td>WA</td>\n",
       "      <td>Kids</td>\n",
       "      <td>0.123077</td>\n",
       "      <td>0.123077</td>\n",
       "    </tr>\n",
       "    <tr>\n",
       "      <th>2020-10-01</th>\n",
       "      <td>Morning</td>\n",
       "      <td>WA</td>\n",
       "      <td>Men</td>\n",
       "      <td>0.123077</td>\n",
       "      <td>0.123077</td>\n",
       "    </tr>\n",
       "    <tr>\n",
       "      <th>2020-10-01</th>\n",
       "      <td>Morning</td>\n",
       "      <td>WA</td>\n",
       "      <td>Women</td>\n",
       "      <td>0.061538</td>\n",
       "      <td>0.061538</td>\n",
       "    </tr>\n",
       "    <tr>\n",
       "      <th>2020-10-01</th>\n",
       "      <td>Morning</td>\n",
       "      <td>WA</td>\n",
       "      <td>Seniors</td>\n",
       "      <td>0.230769</td>\n",
       "      <td>0.230769</td>\n",
       "    </tr>\n",
       "    <tr>\n",
       "      <th>2020-10-01</th>\n",
       "      <td>Afternoon</td>\n",
       "      <td>WA</td>\n",
       "      <td>Kids</td>\n",
       "      <td>0.046154</td>\n",
       "      <td>0.046154</td>\n",
       "    </tr>\n",
       "  </tbody>\n",
       "</table>\n",
       "</div>"
      ],
      "text/plain": [
       "                  Time State     Group      Unit     Sales\n",
       "Date                                                      \n",
       "2020-10-01     Morning    WA      Kids  0.123077  0.123077\n",
       "2020-10-01     Morning    WA       Men  0.123077  0.123077\n",
       "2020-10-01     Morning    WA     Women  0.061538  0.061538\n",
       "2020-10-01     Morning    WA   Seniors  0.230769  0.230769\n",
       "2020-10-01   Afternoon    WA      Kids  0.046154  0.046154"
      ]
     },
     "execution_count": 70,
     "metadata": {},
     "output_type": "execute_result"
    }
   ],
   "source": [
    "df.head()"
   ]
  },
  {
   "cell_type": "code",
   "execution_count": 71,
   "id": "5ebe52d8",
   "metadata": {},
   "outputs": [
    {
     "data": {
      "text/plain": [
       "State  Group   \n",
       " NSW    Kids       114.384615\n",
       "        Men        117.061538\n",
       "        Seniors    111.923077\n",
       "        Women      117.984615\n",
       " NT     Kids        35.076923\n",
       "        Men         35.461538\n",
       "        Seniors     33.630769\n",
       "        Women       34.784615\n",
       " QLD    Kids        52.369231\n",
       "        Men         51.646154\n",
       "        Seniors     50.400000\n",
       "        Women       51.230769\n",
       " SA     Kids        89.323077\n",
       "        Men         90.184615\n",
       "        Seniors     90.569231\n",
       "        Women       92.123077\n",
       " TAS    Kids        35.538462\n",
       "        Men         35.430769\n",
       "        Seniors     34.769231\n",
       "        Women       34.323077\n",
       " VIC    Kids       162.215385\n",
       "        Men        162.507692\n",
       "        Seniors    161.938462\n",
       "        Women      162.969231\n",
       " WA     Kids        34.615385\n",
       "        Men         35.400000\n",
       "        Seniors     33.923077\n",
       "        Women       32.384615\n",
       "Name: Sales, dtype: float64"
      ]
     },
     "execution_count": 71,
     "metadata": {},
     "output_type": "execute_result"
    }
   ],
   "source": [
    "df.groupby(by=['State', 'Group'],observed=False)[\"Sales\"].sum()"
   ]
  },
  {
   "cell_type": "code",
   "execution_count": 72,
   "id": "c2c3328d",
   "metadata": {},
   "outputs": [
    {
     "data": {
      "text/plain": [
       "<Axes: xlabel='State,Group'>"
      ]
     },
     "execution_count": 72,
     "metadata": {},
     "output_type": "execute_result"
    },
    {
     "data": {
      "image/png": "[encoded data removed]",
      "text/plain": [
       "<Figure size 640x480 with 1 Axes>"
      ]
     },
     "metadata": {},
     "output_type": "display_data"
    }
   ],
   "source": [
    "df.groupby(by=['State', 'Group'],observed=False)[\"Sales\"].sum().plot(kind=\"bar\",legend=True,)"
   ]
  },
  {
   "cell_type": "markdown",
   "id": "e9b5b340",
   "metadata": {},
   "source": [
    "<span style=\"background-color: #FFFF00\">\n",
    "    <b>Clearly, Highest sales are from state VIC, followed by NSW and SA.</b>\n",
    "</span>"
   ]
  },
  {
   "cell_type": "code",
   "execution_count": 73,
   "id": "d3cc6a94",
   "metadata": {},
   "outputs": [
    {
     "data": {
      "text/plain": [
       "<Axes: xlabel='Group,State'>"
      ]
     },
     "execution_count": 73,
     "metadata": {},
     "output_type": "execute_result"
    },
    {
     "data": {
      "image/png": "[encoded data removed]",
      "text/plain": [
       "<Figure size 640x480 with 1 Axes>"
      ]
     },
     "metadata": {},
     "output_type": "display_data"
    }
   ],
   "source": [
    "df.groupby(by=['Group','State'],observed=False)[\"Sales\"].sum().plot(kind=\"bar\",legend=True,)"
   ]
  },
  {
   "cell_type": "markdown",
   "id": "5ac0a573",
   "metadata": {},
   "source": [
    "<span style=\"background-color: #FFFF00\">\n",
    "    <b>In all four categories namely Kids, Men, Women and Senior the highest sales are in state of VIC</b>\n",
    "</span>"
   ]
  },
  {
   "cell_type": "code",
   "execution_count": 74,
   "id": "f5bda0f8",
   "metadata": {},
   "outputs": [
    {
     "data": {
      "text/plain": [
       "Time\n",
       " Afternoon    701.584615\n",
       " Evening      689.769231\n",
       " Morning      702.815385\n",
       "Name: Sales, dtype: float64"
      ]
     },
     "execution_count": 74,
     "metadata": {},
     "output_type": "execute_result"
    }
   ],
   "source": [
    "plot_df=df.groupby(by=['Time'],observed=False)[\"Sales\"].sum()\n",
    "plot_df"
   ]
  },
  {
   "cell_type": "code",
   "execution_count": 75,
   "id": "abe82d74",
   "metadata": {},
   "outputs": [
    {
     "data": {
      "image/png": "[encoded data removed]",
      "text/plain": [
       "<Figure size 640x480 with 1 Axes>"
      ]
     },
     "metadata": {},
     "output_type": "display_data"
    }
   ],
   "source": [
    "sns.barplot(data=plot_df)\n",
    "plt.axhline(color='r',y=689,linestyle='--')\n",
    "plt.show()"
   ]
  },
  {
   "cell_type": "markdown",
   "id": "3ffb4ed2",
   "metadata": {},
   "source": [
    "<span style=\"background-color: #FFFF00\">\n",
    "    <b>As seen from given data, the sales dip a little bit in evening ans compared to morning and afternoon</b>\n",
    "</span>\n",
    "        "
   ]
  },
  {
   "cell_type": "code",
   "execution_count": 76,
   "id": "1adb2d0e",
   "metadata": {},
   "outputs": [
    {
     "data": {
      "text/plain": [
       "Group\n",
       " Kids       523.523077\n",
       " Men        527.692308\n",
       " Seniors    517.153846\n",
       " Women      525.800000\n",
       "Name: Sales, dtype: float64"
      ]
     },
     "execution_count": 76,
     "metadata": {},
     "output_type": "execute_result"
    }
   ],
   "source": [
    "plot_df=df.groupby(by=['Group'],observed=False)[\"Sales\"].sum()\n",
    "plot_df"
   ]
  },
  {
   "cell_type": "code",
   "execution_count": 77,
   "id": "5e6de495",
   "metadata": {},
   "outputs": [
    {
     "data": {
      "image/png": "[encoded data removed]",
      "text/plain": [
       "<Figure size 640x480 with 1 Axes>"
      ]
     },
     "metadata": {},
     "output_type": "display_data"
    }
   ],
   "source": [
    "sns.barplot(data=plot_df)\n",
    "plt.axhline(color='r',y=517,linestyle='--')\n",
    "plt.show()"
   ]
  },
  {
   "cell_type": "markdown",
   "id": "745fe302",
   "metadata": {},
   "source": [
    "<span style=\"background-color: #FFFF00\">\n",
    "    <b>It is clear from data that the shoping for seniors is comparitively lesser than Kids, Men and Women</b>\n",
    "</span>"
   ]
  },
  {
   "cell_type": "code",
   "execution_count": 123,
   "id": "8a30486f",
   "metadata": {},
   "outputs": [
    {
     "data": {
      "image/png": "[encoded data removed]",
      "text/plain": [
       "<Figure size 606.5x500 with 1 Axes>"
      ]
     },
     "metadata": {},
     "output_type": "display_data"
    }
   ],
   "source": [
    "sns.displot(data=df,x='State',y='Sales',hue='Group',height=5,alpha=0.6)\n",
    "plt.show()"
   ]
  },
  {
   "cell_type": "code",
   "execution_count": 98,
   "id": "1c576d39",
   "metadata": {},
   "outputs": [
    {
     "data": {
      "image/png": "[encoded data removed]",
      "text/plain": [
       "<Figure size 640x480 with 1 Axes>"
      ]
     },
     "metadata": {},
     "output_type": "display_data"
    }
   ],
   "source": [
    "sns.scatterplot(data=df,x='State',y='Sales',hue='Group')\n",
    "plt.show()"
   ]
  },
  {
   "cell_type": "code",
   "execution_count": 125,
   "id": "f5bdd3d7",
   "metadata": {},
   "outputs": [
    {
     "data": {
      "image/png": "[encoded data removed]",
      "text/plain": [
       "<Figure size 500x500 with 1 Axes>"
      ]
     },
     "metadata": {},
     "output_type": "display_data"
    }
   ],
   "source": [
    "sns.displot(data=df,x='Group',y='Sales',height=5)\n",
    "plt.show()"
   ]
  },
  {
   "cell_type": "code",
   "execution_count": null,
   "id": "68203e72",
   "metadata": {},
   "outputs": [],
   "source": []
  }
 ],
 "metadata": {
  "kernelspec": {
   "display_name": "Python 3 (ipykernel)",
   "language": "python",
   "name": "python3"
  },
  "language_info": {
   "codemirror_mode": {
    "name": "ipython",
    "version": 3
   },
   "file_extension": ".py",
   "mimetype": "text/x-python",
   "name": "python",
   "nbconvert_exporter": "python",
   "pygments_lexer": "ipython3",
   "version": "3.11.7"
  }
 },
 "nbformat": 4,
 "nbformat_minor": 5
}
